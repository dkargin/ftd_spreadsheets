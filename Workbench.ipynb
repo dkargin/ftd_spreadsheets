{
 "cells": [
  {
   "cell_type": "markdown",
   "metadata": {},
   "source": [
    "# This is the workbench for fixing/tweaking ftd_calc.py #\n",
    "\n",
    "I use it to check and fix calculation routines and compare them with real values from FTD"
   ]
  },
  {
   "cell_type": "code",
   "execution_count": 3,
   "metadata": {},
   "outputs": [],
   "source": [
    "import ftd_calc as FTD"
   ]
  },
  {
   "cell_type": "code",
   "execution_count": 2,
   "metadata": {},
   "outputs": [],
   "source": [
    "# Real data from shell designer in FTD\n",
    "\n",
    "real_data = {\n",
    "    ('HE', 'gunpowder'): dict(D=0.5, T=22.16, velocity=326, ap=3.0, exp=2985, kin=2842),\n",
    "    ('HE', 'HE', 'HE', 'gunpowder'): dict(D=0.5, velocity=169, ap=2.5, exp=6096, kin=6428),\n",
    "    ('solid', 'solid', 'solid', 'gunpowder'): dict(D=0.5, velocity=219, ap=4.4, kin=16713),\n",
    "    ('solid', 'solid', 'gunpowder', 'gunpowder'): dict(D=0.5, velocity=219, ap=4.4, kin=17760),\n",
    "    ('HE', 'HE', 'gunpowder', 'gunpowder'): dict(D=0.5, T=31.33, velocity=333, ap=4.2, exp=4684, kin=7196),\n",
    "    ('HE', 'HE', 'bleeder', 'gunpowder'): dict(D=0.5, T=28.7, velocity=257, ap=3.5, exp=4684, kin=6399),\n",
    "    ('HE', 'gunpowder', 'gunpowder', 'gunpowder'): dict(D=0.5, velocity=490, ap=4.6, exp=2985, kin=4263)\n",
    "}"
   ]
  },
  {
   "cell_type": "code",
   "execution_count": 6,
   "metadata": {
    "scrolled": true
   },
   "outputs": [
    {
     "data": {
      "text/plain": [
       "{'accuracy': 0.5954583420518296,\n",
       " 'armorC': 1.5,\n",
       " 'barrel_p': 8.0,\n",
       " 'damage': {'HE': (6096.517668967417, 2.5304801926472886),\n",
       "  'kinetic': (6427.965502269278, 2.5304801926472886)},\n",
       " 'diameter': 0.5,\n",
       " 'dps': 399.7236701746028,\n",
       " 'expMod': 1.0,\n",
       " 'kineticC': 2.5,\n",
       " 'length': 2.0,\n",
       " 'modules': 4,\n",
       " 'numExplosive': 3,\n",
       " 'period': 31.332853432887504,\n",
       " 'propellant': 1,\n",
       " 'shell': ['HE', 'HE', 'HE', 'gunpowder'],\n",
       " 'shellLength': 1.5,\n",
       " 'speedC': 1.0,\n",
       " 'velCharge': 0,\n",
       " 'velocity': 168.69867950981924,\n",
       " 'vp': 168.69867950981924}"
      ]
     },
     "execution_count": 6,
     "metadata": {},
     "output_type": "execute_result"
    }
   ],
   "source": [
    "shell_bp = ['HE', 'HE', 'HE', 'gunpowder']\n",
    "shell = dict(diameter=0.5, velCharge=0, **FTD.calcBulletStats(shell_bp))\n",
    "FTD.calcCannonData(shell)"
   ]
  },
  {
   "cell_type": "markdown",
   "metadata": {},
   "source": [
    "What do we see here:\n",
    "\n",
    " - Kinetic damage and AP are accurate when velocity is accurate\n",
    " - HE damage is accurate\n",
    " - Reloading period is accurate\n",
    " - Velocity for bleeder module is broken\n",
    " - Shell length is accurate\n",
    " - Charge influence on velocity seems to be OK\n",
    "\n",
    "According to wiki:\n",
    ">$AP=0.01av$"
   ]
  },
  {
   "cell_type": "markdown",
   "metadata": {},
   "source": [
    "## Checking shell modifiers ##"
   ]
  },
  {
   "cell_type": "code",
   "execution_count": 7,
   "metadata": {},
   "outputs": [
    {
     "data": {
      "text/plain": [
       "1.2024335406700017"
      ]
     },
     "execution_count": 7,
     "metadata": {},
     "output_type": "execute_result"
    }
   ],
   "source": [
    "shell_bp = ['apcap', 'bleeder', 'bleeder', 'bleeder', 'bleeder', 'bleeder', 'bleeder', 'bleeder', 'bleeder', 'bleeder', 'bleeder', 'bleeder', 'bleeder', 'rail', 'rail', 'rail']\n",
    "FTD.calcSpeedMod(shell_bp)"
   ]
  },
  {
   "cell_type": "code",
   "execution_count": 8,
   "metadata": {},
   "outputs": [
    {
     "data": {
      "text/plain": [
       "1.6923076923076923"
      ]
     },
     "execution_count": 8,
     "metadata": {},
     "output_type": "execute_result"
    }
   ],
   "source": [
    "FTD.calcKineticMod(shell_bp)"
   ]
  },
  {
   "cell_type": "markdown",
   "metadata": {},
   "source": [
    "## This is the test for the shell generator ##\n",
    "\n",
    "Should iterate every possible shell variant for all body parts with max length = 3"
   ]
  },
  {
   "cell_type": "code",
   "execution_count": 5,
   "metadata": {},
   "outputs": [
    {
     "data": {
      "text/plain": [
       "[['HE', 'rail'],\n",
       " ['HE', 'bleeder', 'rail'],\n",
       " ['HE', 'rail', 'rail'],\n",
       " ['HE', 'gunpowder'],\n",
       " ['HE', 'bleeder', 'gunpowder'],\n",
       " ['HE', 'gunpowder', 'rail'],\n",
       " ['HE', 'gunpowder', 'gunpowder'],\n",
       " ['HE', 'HE', 'rail'],\n",
       " ['HE', 'HE', 'gunpowder'],\n",
       " ['solid', 'rail'],\n",
       " ['solid', 'bleeder', 'rail'],\n",
       " ['solid', 'rail', 'rail'],\n",
       " ['solid', 'gunpowder'],\n",
       " ['solid', 'bleeder', 'gunpowder'],\n",
       " ['solid', 'gunpowder', 'rail'],\n",
       " ['solid', 'gunpowder', 'gunpowder'],\n",
       " ['solid', 'HE', 'rail'],\n",
       " ['solid', 'HE', 'gunpowder'],\n",
       " ['solid', 'solid', 'rail'],\n",
       " ['solid', 'solid', 'gunpowder'],\n",
       " ['bsabot', 'rail'],\n",
       " ['bsabot', 'bleeder', 'rail'],\n",
       " ['bsabot', 'rail', 'rail'],\n",
       " ['bsabot', 'gunpowder'],\n",
       " ['bsabot', 'bleeder', 'gunpowder'],\n",
       " ['bsabot', 'gunpowder', 'rail'],\n",
       " ['bsabot', 'gunpowder', 'gunpowder'],\n",
       " ['bsabot', 'HE', 'rail'],\n",
       " ['bsabot', 'HE', 'gunpowder'],\n",
       " ['bsabot', 'solid', 'rail'],\n",
       " ['bsabot', 'solid', 'gunpowder'],\n",
       " ['bsabot', 'bsabot', 'rail'],\n",
       " ['bsabot', 'bsabot', 'gunpowder'],\n",
       " ['composite', 'rail'],\n",
       " ['composite', 'bleeder', 'rail'],\n",
       " ['composite', 'rail', 'rail'],\n",
       " ['composite', 'gunpowder'],\n",
       " ['composite', 'bleeder', 'gunpowder'],\n",
       " ['composite', 'gunpowder', 'rail'],\n",
       " ['composite', 'gunpowder', 'gunpowder'],\n",
       " ['composite', 'HE', 'rail'],\n",
       " ['composite', 'HE', 'gunpowder'],\n",
       " ['composite', 'solid', 'rail'],\n",
       " ['composite', 'solid', 'gunpowder'],\n",
       " ['composite', 'bsabot', 'rail'],\n",
       " ['composite', 'bsabot', 'gunpowder'],\n",
       " ['apcap', 'rail'],\n",
       " ['apcap', 'bleeder', 'rail'],\n",
       " ['apcap', 'rail', 'rail'],\n",
       " ['apcap', 'gunpowder'],\n",
       " ['apcap', 'bleeder', 'gunpowder'],\n",
       " ['apcap', 'gunpowder', 'rail'],\n",
       " ['apcap', 'gunpowder', 'gunpowder'],\n",
       " ['apcap', 'HE', 'rail'],\n",
       " ['apcap', 'HE', 'gunpowder'],\n",
       " ['apcap', 'solid', 'rail'],\n",
       " ['apcap', 'solid', 'gunpowder'],\n",
       " ['apcap', 'bsabot', 'rail'],\n",
       " ['apcap', 'bsabot', 'gunpowder'],\n",
       " ['hollow', 'rail'],\n",
       " ['hollow', 'bleeder', 'rail'],\n",
       " ['hollow', 'rail', 'rail'],\n",
       " ['hollow', 'gunpowder'],\n",
       " ['hollow', 'bleeder', 'gunpowder'],\n",
       " ['hollow', 'gunpowder', 'rail'],\n",
       " ['hollow', 'gunpowder', 'gunpowder'],\n",
       " ['hollow', 'HE', 'rail'],\n",
       " ['hollow', 'HE', 'gunpowder'],\n",
       " ['hollow', 'solid', 'rail'],\n",
       " ['hollow', 'solid', 'gunpowder'],\n",
       " ['hollow', 'bsabot', 'rail'],\n",
       " ['hollow', 'bsabot', 'gunpowder'],\n",
       " ['scharge', 'rail'],\n",
       " ['scharge', 'bleeder', 'rail'],\n",
       " ['scharge', 'rail', 'rail'],\n",
       " ['scharge', 'gunpowder'],\n",
       " ['scharge', 'bleeder', 'gunpowder'],\n",
       " ['scharge', 'gunpowder', 'rail'],\n",
       " ['scharge', 'gunpowder', 'gunpowder'],\n",
       " ['scharge', 'HE', 'rail'],\n",
       " ['scharge', 'HE', 'gunpowder'],\n",
       " ['scharge', 'solid', 'rail'],\n",
       " ['scharge', 'solid', 'gunpowder'],\n",
       " ['scharge', 'bsabot', 'rail'],\n",
       " ['scharge', 'bsabot', 'gunpowder'],\n",
       " ['sabot', 'rail'],\n",
       " ['sabot', 'bleeder', 'rail'],\n",
       " ['sabot', 'rail', 'rail'],\n",
       " ['sabot', 'gunpowder'],\n",
       " ['sabot', 'bleeder', 'gunpowder'],\n",
       " ['sabot', 'gunpowder', 'rail'],\n",
       " ['sabot', 'gunpowder', 'gunpowder'],\n",
       " ['sabot', 'HE', 'rail'],\n",
       " ['sabot', 'HE', 'gunpowder'],\n",
       " ['sabot', 'solid', 'rail'],\n",
       " ['sabot', 'solid', 'gunpowder'],\n",
       " ['sabot', 'bsabot', 'rail'],\n",
       " ['sabot', 'bsabot', 'gunpowder'],\n",
       " ['squash', 'rail'],\n",
       " ['squash', 'bleeder', 'rail'],\n",
       " ['squash', 'rail', 'rail'],\n",
       " ['squash', 'gunpowder'],\n",
       " ['squash', 'bleeder', 'gunpowder'],\n",
       " ['squash', 'gunpowder', 'rail'],\n",
       " ['squash', 'gunpowder', 'gunpowder'],\n",
       " ['squash', 'HE', 'rail'],\n",
       " ['squash', 'HE', 'gunpowder'],\n",
       " ['squash', 'solid', 'rail'],\n",
       " ['squash', 'solid', 'gunpowder'],\n",
       " ['squash', 'bsabot', 'rail'],\n",
       " ['squash', 'bsabot', 'gunpowder']]"
      ]
     },
     "execution_count": 5,
     "metadata": {},
     "output_type": "execute_result"
    }
   ],
   "source": [
    "[a for a in FTD.allBodyGen(3)]"
   ]
  }
 ],
 "metadata": {
  "kernelspec": {
   "display_name": "Python 3",
   "language": "python",
   "name": "python3"
  },
  "language_info": {
   "codemirror_mode": {
    "name": "ipython",
    "version": 3
   },
   "file_extension": ".py",
   "mimetype": "text/x-python",
   "name": "python",
   "nbconvert_exporter": "python",
   "pygments_lexer": "ipython3",
   "version": "3.5.2"
  }
 },
 "nbformat": 4,
 "nbformat_minor": 2
}
