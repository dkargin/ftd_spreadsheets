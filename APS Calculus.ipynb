{
 "cells": [
  {
   "cell_type": "markdown",
   "metadata": {},
   "source": [
    "# Spreadsheet for advanced cannons #\n",
    "\n",
    "Using data from https://fromthedepths.gamepedia.com/index.php?title=Advanced_Cannon&oldid=8383"
   ]
  },
  {
   "cell_type": "code",
   "execution_count": 1,
   "metadata": {},
   "outputs": [],
   "source": [
    "from sympy import *\n",
    "import math\n",
    "from IPython.display import HTML, display, Math, Latex\n",
    "import ftd_calc as FTD\n",
    "init_printing()"
   ]
  },
  {
   "cell_type": "markdown",
   "metadata": {},
   "source": [
    "# Analytic study for kinetic damage #"
   ]
  },
  {
   "cell_type": "markdown",
   "metadata": {},
   "source": [
    "Caclulating symbolic value for DPS, given parameters:\n",
    "\n",
    "- diameter, `diameter`=$D$\n",
    "- total number of modules (with casings), `modules`=$N$\n",
    "- number of gunpowder casings `propellant`=$Np$\n",
    "- number of rail casings `rail`=$Nr$\n",
    "- rail charge `charge`=$Q$"
   ]
  },
  {
   "cell_type": "code",
   "execution_count": 2,
   "metadata": {},
   "outputs": [],
   "source": [
    "# These are 'magic' symbols from sympy. Any arithmetic operations\n",
    "# on this values will produce symbolic formulas.\n",
    "diameter = symbols(\"D\", positive=True)\n",
    "numExplosive, modules, propellant, rail = symbols('Ne N Np Nr', positive=True)\n",
    "charge = symbols(\"Q\")"
   ]
  },
  {
   "cell_type": "markdown",
   "metadata": {},
   "source": [
    "Feeding our magic values to DPS calculator"
   ]
  },
  {
   "cell_type": "code",
   "execution_count": 3,
   "metadata": {
    "code_folding": []
   },
   "outputs": [
    {
     "data": {
      "text/plain": [
       "{'damage': {'kinetic': (23.0670208647647*D**1.95*(1.05737126344056*D**(-0.75)*Q**0.5*(6.0 - 5.0*0.9**Nr)*(N - Np - Nr)**(-0.25) + 868.681853770701*D**0.09*Np*(N - Np - Nr)**0.03/N)*(N - Np - Nr)**0.65,\n",
       "   0.00845897010752451*D**(-0.75)*Q**0.5*(6.0 - 5.0*0.9**Nr)*(N - Np - Nr)**(-0.25) + 6.9494548301656*D**0.09*Np*(N - Np - Nr)**0.03/N)},\n",
       " 'dps': 0.901648346931288*D**0.45*N**(-0.5)*(1.05737126344056*D**(-0.75)*Q**0.5*(6.0 - 5.0*0.9**Nr)*(N - Np - Nr)**(-0.25) + 868.681853770701*D**0.09*Np*(N - Np - Nr)**0.03/N)*(N - Np - Nr)**0.65,\n",
       " 'period': 25.5831676986622*D**1.5*N**0.5,\n",
       " 'vp': 694.94548301656*D**0.09*Np*(N - Np - Nr)**0.03/N,\n",
       " 'vr': 0.845897010752451*D**(-0.75)*Q**0.5*(6.0 - 5.0*0.9**Nr)*(N - Np - Nr)**(-0.25)}"
      ]
     },
     "execution_count": 3,
     "metadata": {},
     "output_type": "execute_result"
    }
   ],
   "source": [
    "data = FTD.calcWeaponDPS({\n",
    "    \"diameter\": diameter, \n",
    "    \"numExplosive\": 0,\n",
    "    \"modules\": modules,\n",
    "    \"propellant\": propellant,\n",
    "    \"speedC\": 1.0,\n",
    "    \"kineticC\": 1.0,\n",
    "    \"armorC\": 1,\n",
    "    \"rails\": rail,\n",
    "    \"loaders\": 1,\n",
    "    \"clipsPerLoader\": 3,\n",
    "    \"velCharge\": charge\n",
    "})\n",
    "dps = data[\"dps\"]\n",
    "data"
   ]
  },
  {
   "cell_type": "markdown",
   "metadata": {},
   "source": [
    "DPS formula is:"
   ]
  },
  {
   "cell_type": "code",
   "execution_count": 12,
   "metadata": {},
   "outputs": [
    {
     "data": {
      "image/png": "[encoded data removed]",
      "text/latex": [
       "$\\displaystyle \\frac{0.901648346931288 D^{0.45} \\left(\\frac{1.05737126344056 Q^{0.5} \\left(6.0 - 5.0 \\cdot 0.9^{Nr}\\right)}{D^{0.75} \\left(N - Np - Nr\\right)^{0.25}} + \\frac{868.681853770701 D^{0.09} Np \\left(N - Np - Nr\\right)^{0.03}}{N}\\right) \\left(N - Np - Nr\\right)^{0.65}}{N^{0.5}}$"
      ],
      "text/plain": [
       "                              ⎛                                               \n",
       "                   0.45  -0.5 ⎜                  -0.75  0.5 ⎛             Nr⎞ \n",
       "0.901648346931288⋅D    ⋅N    ⋅⎜1.05737126344056⋅D     ⋅Q   ⋅⎝6.0 - 5.0⋅0.9  ⎠⋅\n",
       "                              ⎝                                               \n",
       "\n",
       "                                       0.09                 0.03⎞             \n",
       "             -0.25   868.681853770701⋅D    ⋅Np⋅(N - Np - Nr)    ⎟             \n",
       "(N - Np - Nr)      + ───────────────────────────────────────────⎟⋅(N - Np - Nr\n",
       "                                          N                     ⎠             \n",
       "\n",
       "     \n",
       " 0.65\n",
       ")    \n",
       "     "
      ]
     },
     "execution_count": 12,
     "metadata": {},
     "output_type": "execute_result"
    }
   ],
   "source": [
    " data[\"dps\"]"
   ]
  },
  {
   "cell_type": "markdown",
   "metadata": {},
   "source": [
    "## Partial derrivatives ##\n",
    "\n",
    "Let's calculate partial derrivateves. It will provide us some insight how these values will influence effective DPS:"
   ]
  },
  {
   "cell_type": "code",
   "execution_count": 4,
   "metadata": {},
   "outputs": [
    {
     "data": {
      "image/png": "[encoded data removed]",
      "text/latex": [
       "$\\displaystyle \\frac{\\partial DPS}{\\partial D} = \\frac{422.952601029242 Np \\left(N - Np - Nr\\right)^{0.68}}{D^{0.46} N^{1.5}} + Q^{0.5} \\left(\\frac{1.43006557766075 \\cdot 0.9^{Nr} \\left(N - Np - Nr\\right)^{0.4}}{D^{1.3} N^{0.5}} - \\frac{1.7160786931929 \\left(N - Np - Nr\\right)^{0.4}}{D^{1.3} N^{0.5}}\\right)$"
      ],
      "text/plain": [
       "                                                    -0.46  -1.5               \n",
       "\\frac{\\partial DPS}{\\partial D} = 422.952601029242⋅D     ⋅N    ⋅Np⋅(N - Np - N\n",
       "\n",
       "  0.68    0.5 ⎛                    Nr  -1.3  -0.5              0.4            \n",
       "r)     + Q   ⋅⎝1.43006557766075⋅0.9  ⋅D    ⋅N    ⋅(N - Np - Nr)    - 1.7160786\n",
       "\n",
       "        -1.3  -0.5              0.4⎞\n",
       "931929⋅D    ⋅N    ⋅(N - Np - Nr)   ⎠"
      ]
     },
     "execution_count": 4,
     "metadata": {},
     "output_type": "execute_result"
    }
   ],
   "source": [
    "Eq(Symbol('\\\\frac{\\\\partial DPS}{\\\\partial D}'), collect(diff(expand(dps), diameter), charge))"
   ]
  },
  {
   "cell_type": "markdown",
   "metadata": {},
   "source": [
    "This result is controversal. If you have no rail charge, then increasing diameter certainly increases your effective DPS. If you have some rail charge, then increasing your diameter makes your DPS worse."
   ]
  },
  {
   "cell_type": "code",
   "execution_count": 5,
   "metadata": {},
   "outputs": [
    {
     "data": {
      "image/png": "[encoded data removed]",
      "text/latex": [
       "$\\displaystyle \\frac{\\partial Damage}{\\partial D} = \\frac{40877.3209893733 D^{1.04} Np \\left(N - Np - Nr\\right)^{0.68}}{N} + Q^{0.5} \\left(- 146.342429973517 \\cdot 0.9^{Nr} D^{0.2} \\left(N - Np - Nr\\right)^{0.4} + 175.61091596822 D^{0.2} \\left(N - Np - Nr\\right)^{0.4}\\right)$"
      ],
      "text/plain": [
       "                                                       1.04                 0.\n",
       "                                     40877.3209893733⋅D    ⋅Np⋅(N - Np - Nr)  \n",
       "\\frac{\\partial Damage}{\\partial D} = ─────────────────────────────────────────\n",
       "                                                          N                   \n",
       "\n",
       "68                                                                            \n",
       "      0.5 ⎛                      Nr  0.2              0.4                    0\n",
       "── + Q   ⋅⎝- 146.342429973517⋅0.9  ⋅D   ⋅(N - Np - Nr)    + 175.61091596822⋅D \n",
       "                                                                              \n",
       "\n",
       "                    \n",
       ".2              0.4⎞\n",
       "  ⋅(N - Np - Nr)   ⎠\n",
       "                    "
      ]
     },
     "execution_count": 5,
     "metadata": {},
     "output_type": "execute_result"
    }
   ],
   "source": [
    "Eq(Symbol('\\\\frac{\\\\partial Damage}{\\\\partial D}'), collect(diff(expand(data['damage']['kinetic'][0]), diameter), charge))"
   ]
  },
  {
   "cell_type": "markdown",
   "metadata": {},
   "source": [
    "This derrivative is positive function. Seems like actual DPS for rails is being reduced by reloading time."
   ]
  },
  {
   "cell_type": "code",
   "execution_count": 6,
   "metadata": {},
   "outputs": [
    {
     "data": {
      "image/png": "[encoded data removed]",
      "text/latex": [
       "$\\displaystyle \\frac{\\partial DPS}{\\partial Q} = \\frac{0.476688525886916 \\left(6.0 - 5.0 \\cdot 0.9^{Nr}\\right) \\left(N - Np - Nr\\right)^{0.4}}{D^{0.3} N^{0.5} Q^{0.5}}$"
      ],
      "text/plain": [
       "                                                     -0.3  -0.5  -0.5 ⎛       \n",
       "\\frac{\\partial DPS}{\\partial Q} = 0.476688525886916⋅D    ⋅N    ⋅Q    ⋅⎝6.0 - 5\n",
       "\n",
       "      Nr⎞              0.4\n",
       ".0⋅0.9  ⎠⋅(N - Np - Nr)   "
      ]
     },
     "execution_count": 6,
     "metadata": {},
     "output_type": "execute_result"
    }
   ],
   "source": [
    "Eq(Symbol('\\\\frac{\\\\partial DPS}{\\\\partial Q}'), diff(dps, charge))"
   ]
  },
  {
   "cell_type": "markdown",
   "metadata": {},
   "source": [
    "This derrivateve is strictly positive. It means that increasing rail charge never hurts you"
   ]
  },
  {
   "cell_type": "code",
   "execution_count": 7,
   "metadata": {},
   "outputs": [
    {
     "data": {
      "image/png": "[encoded data removed]",
      "text/latex": [
       "$\\displaystyle \\frac{\\partial DPS}{\\partial Np} = \\frac{- 532.60697907386 D^{0.84} N^{2.0} Np \\left(N - Np - Nr\\right)^{0.6} + 783.245557461559 D^{0.84} N^{2.0} \\left(N - Np - Nr\\right)^{1.6} + N^{3.0} Q^{0.5} \\left(1.90675410354766 \\cdot 0.9^{Nr} - 2.2881049242572\\right) \\left(N - Np - Nr\\right)^{0.32}}{D^{0.3} N^{3.5} \\left(N - Np - Nr\\right)^{0.92}}$"
      ],
      "text/plain": [
       "                                    -0.3  -3.5              -0.92 ⎛           \n",
       "\\frac{\\partial DPS}{\\partial Np} = D    ⋅N    ⋅(N - Np - Nr)     ⋅⎝- 532.60697\n",
       "\n",
       "        0.84  2.0                 0.6                     0.84  2.0           \n",
       "907386⋅D    ⋅N   ⋅Np⋅(N - Np - Nr)    + 783.245557461559⋅D    ⋅N   ⋅(N - Np - \n",
       "\n",
       "   1.6    3.0  0.5 ⎛                    Nr                  ⎞              0.3\n",
       "Nr)    + N   ⋅Q   ⋅⎝1.90675410354766⋅0.9   - 2.2881049242572⎠⋅(N - Np - Nr)   \n",
       "\n",
       "2⎞\n",
       " ⎠"
      ]
     },
     "execution_count": 7,
     "metadata": {},
     "output_type": "execute_result"
    }
   ],
   "source": [
    "Eq(Symbol('\\\\frac{\\\\partial DPS}{\\\\partial Np}'), simplify(expand(diff(dps, propellant))))"
   ]
  },
  {
   "cell_type": "markdown",
   "metadata": {},
   "source": [
    "This derrivateve is ... complicated. We could try to calculate optimumm for propellant charges, but it is more convenient to leave it to dynamic optimizer."
   ]
  },
  {
   "cell_type": "markdown",
   "metadata": {},
   "source": [
    "## Rail boost for propellant-only shells ##"
   ]
  },
  {
   "cell_type": "code",
   "execution_count": 8,
   "metadata": {},
   "outputs": [],
   "source": [
    "data_prop = FTD.calcWeaponDPS({\n",
    "    \"diameter\": diameter, \n",
    "    \"numExplosive\": 0,\n",
    "    \"modules\": modules,\n",
    "    \"propellant\": propellant,\n",
    "    \"speedC\": 1.0,\n",
    "    \"kineticC\": 1.0,\n",
    "    \"armorC\": 1,\n",
    "    \"rails\": 0,\n",
    "    \"loaders\": 1,\n",
    "    \"clipsPerLoader\": 3,\n",
    "    \"velCharge\": charge\n",
    "})\n",
    "dps_prop = data_prop['dps']"
   ]
  },
  {
   "cell_type": "code",
   "execution_count": 9,
   "metadata": {},
   "outputs": [
    {
     "data": {
      "image/png": "[encoded data removed]",
      "text/latex": [
       "$\\displaystyle \\frac{0.901648346931288 D^{0.45} \\left(N - Np\\right)^{0.65} \\left(\\frac{1.05737126344056 Q^{0.5}}{D^{0.75} \\left(N - Np\\right)^{0.25}} + \\frac{868.681853770701 D^{0.09} Np \\left(N - Np\\right)^{0.03}}{N}\\right)}{N^{0.5}}$"
      ],
      "text/plain": [
       "                                           ⎛                                  \n",
       "                   0.45  -0.5         0.65 ⎜                  -0.75  0.5      \n",
       "0.901648346931288⋅D    ⋅N    ⋅(N - Np)    ⋅⎜1.05737126344056⋅D     ⋅Q   ⋅(N - \n",
       "                                           ⎝                                  \n",
       "\n",
       "                             0.09            0.03⎞\n",
       "   -0.25   868.681853770701⋅D    ⋅Np⋅(N - Np)    ⎟\n",
       "Np)      + ──────────────────────────────────────⎟\n",
       "                             N                   ⎠"
      ]
     },
     "execution_count": 9,
     "metadata": {},
     "output_type": "execute_result"
    }
   ],
   "source": [
    "dps_prop"
   ]
  },
  {
   "cell_type": "code",
   "execution_count": 10,
   "metadata": {},
   "outputs": [
    {
     "data": {
      "image/png": "[encoded data removed]",
      "text/latex": [
       "$\\displaystyle \\frac{\\partial DPS}{\\partial D} = - \\frac{0.28601311553215 Q^{0.5} \\left(N - Np\\right)^{0.4}}{D^{1.3} N^{0.5}} + \\frac{422.952601029242 Np \\left(N - Np\\right)^{0.68}}{D^{0.46} N^{1.5}}$"
      ],
      "text/plain": [
       "                                                      -1.3  -0.5  0.5         \n",
       "\\frac{\\partial DPS}{\\partial D} = - 0.28601311553215⋅D    ⋅N    ⋅Q   ⋅(N - Np)\n",
       "\n",
       "0.4                     -0.46  -1.5            0.68\n",
       "    + 422.952601029242⋅D     ⋅N    ⋅Np⋅(N - Np)    "
      ]
     },
     "execution_count": 10,
     "metadata": {},
     "output_type": "execute_result"
    }
   ],
   "source": [
    "Eq(Symbol('\\\\frac{\\\\partial DPS}{\\\\partial D}'), collect(diff(expand(dps_prop), diameter), charge))"
   ]
  },
  {
   "cell_type": "code",
   "execution_count": 11,
   "metadata": {},
   "outputs": [
    {
     "data": {
      "image/png": "[encoded data removed]",
      "text/latex": [
       "$\\displaystyle \\frac{\\partial DPS}{\\partial Q} = \\frac{0.476688525886916 \\left(N - Np\\right)^{0.4}}{D^{0.3} N^{0.5} Q^{0.5}}$"
      ],
      "text/plain": [
       "                                                     -0.3  -0.5  -0.5         \n",
       "\\frac{\\partial DPS}{\\partial Q} = 0.476688525886916⋅D    ⋅N    ⋅Q    ⋅(N - Np)\n",
       "\n",
       "0.4\n",
       "   "
      ]
     },
     "execution_count": 11,
     "metadata": {},
     "output_type": "execute_result"
    }
   ],
   "source": [
    "Eq(Symbol('\\\\frac{\\\\partial DPS}{\\\\partial Q}'), diff(dps_prop, charge))"
   ]
  },
  {
   "cell_type": "markdown",
   "metadata": {},
   "source": [
    "Though returns are certainly diminishing, but this derivative is positive function. If you have spare energy - feel free to pump it to your cannon."
   ]
  }
 ],
 "metadata": {
  "kernelspec": {
   "display_name": "Python 3",
   "language": "python",
   "name": "python3"
  },
  "language_info": {
   "codemirror_mode": {
    "name": "ipython",
    "version": 3
   },
   "file_extension": ".py",
   "mimetype": "text/x-python",
   "name": "python",
   "nbconvert_exporter": "python",
   "pygments_lexer": "ipython3",
   "version": "3.5.2"
  }
 },
 "nbformat": 4,
 "nbformat_minor": 1
}
