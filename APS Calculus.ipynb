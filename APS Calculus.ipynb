{
 "cells": [
  {
   "cell_type": "markdown",
   "metadata": {},
   "source": [
    "# Spreadsheet for advanced cannons #\n",
    "\n",
    "Using data from https://fromthedepths.gamepedia.com/index.php?title=Advanced_Cannon&oldid=8383"
   ]
  },
  {
   "cell_type": "code",
   "execution_count": 1,
   "metadata": {},
   "outputs": [],
   "source": [
    "from sympy import *\n",
    "import math\n",
    "from IPython.display import HTML, display, Math, Latex\n",
    "import ftd_calc as FTD\n",
    "init_printing()"
   ]
  },
  {
   "cell_type": "markdown",
   "metadata": {},
   "source": [
    "# Analytic study for kinetic damage #"
   ]
  },
  {
   "cell_type": "markdown",
   "metadata": {},
   "source": [
    "Caclulating symbolic value for DPS, given parameters:\n",
    "\n",
    "- diameter, `diameter`=$D$\n",
    "- total number of modules (with casings), `modules`=$N$\n",
    "- number of gunpowder casings `propellant`=$Np$\n",
    "- number of rail casings `rail`=$Nr$\n",
    "- rail charge `charge`=$Q$"
   ]
  },
  {
   "cell_type": "code",
   "execution_count": 2,
   "metadata": {},
   "outputs": [],
   "source": [
    "# These are 'magic' symbols from sympy. Any arithmetic operations\n",
    "# on this values will produce symbolic formulas.\n",
    "diameter = symbols(\"D\", positive=True)\n",
    "numExplosive, modules, propellant, rail, numShell = symbols('Ne N Np Nr Ns', positive=True)\n",
    "charge = symbols(\"Q\", positive=True)"
   ]
  },
  {
   "cell_type": "markdown",
   "metadata": {},
   "source": [
    "Feeding our magic values to DPS calculator"
   ]
  },
  {
   "cell_type": "code",
   "execution_count": 3,
   "metadata": {
    "code_folding": []
   },
   "outputs": [
    {
     "data": {
      "text/plain": [
       "{'damage': {'kinetic': (23.0670208647647*D**1.95*Ns**0.65*(1.05737126344056*D**(-1.0)*N**(-0.25)*Q**0.5*(6.0 - 5.0*0.9**Nr) + 868.681853770701*D**0.09*Np*Ns**0.03/N),\n",
       "   0.00845897010752451*D**(-1.0)*N**(-0.25)*Q**0.5*(6.0 - 5.0*0.9**Nr) + 6.9494548301656*D**0.09*Np*Ns**0.03/N)},\n",
       " 'dps': 0.901648346931288*D**0.45*N**(-0.5)*Ns**0.65*(1.05737126344056*D**(-1.0)*N**(-0.25)*Q**0.5*(6.0 - 5.0*0.9**Nr) + 868.681853770701*D**0.09*Np*Ns**0.03/N),\n",
       " 'period': 25.5831676986622*D**1.5*N**0.5,\n",
       " 'vp': 694.94548301656*D**0.09*Np*Ns**0.03/N,\n",
       " 'vr': 0.845897010752451*D**(-1.0)*N**(-0.25)*Q**0.5*(6.0 - 5.0*0.9**Nr)}"
      ]
     },
     "execution_count": 3,
     "metadata": {},
     "output_type": "execute_result"
    }
   ],
   "source": [
    "data = FTD.calcWeaponDPS({\n",
    "    \"diameter\": diameter, \n",
    "    \"numExplosive\": 0,\n",
    "    \"modules\": modules,\n",
    "    \"propellant\": propellant,\n",
    "    \"shellLength\": diameter*numShell,\n",
    "    \"speedC\": 1.0,\n",
    "    \"kineticC\": 1.0,\n",
    "    \"armorC\": 1,\n",
    "    \"rails\": rail,\n",
    "    \"loaders\": 1,\n",
    "    \"clipsPerLoader\": 3,\n",
    "    \"velCharge\": charge\n",
    "})\n",
    "dps = data[\"dps\"]\n",
    "data"
   ]
  },
  {
   "cell_type": "markdown",
   "metadata": {},
   "source": [
    "DPS formula is:"
   ]
  },
  {
   "cell_type": "code",
   "execution_count": 4,
   "metadata": {},
   "outputs": [
    {
     "data": {
      "image/png": "[encoded data removed]",
      "text/latex": [
       "$\\displaystyle DPS = \\frac{0.901648346931288 D^{0.45} Ns^{0.65} \\left(\\frac{1.05737126344056 Q^{0.5} \\left(6.0 - 5.0 \\cdot 0.9^{Nr}\\right)}{D^{1.0} N^{0.25}} + \\frac{868.681853770701 D^{0.09} Np Ns^{0.03}}{N}\\right)}{N^{0.5}}$"
      ],
      "text/plain": [
       "                                           ⎛                                  \n",
       "                         0.45  -0.5   0.65 ⎜                  -1.0  -0.25  0.5\n",
       "DPS = 0.901648346931288⋅D    ⋅N    ⋅Ns    ⋅⎜1.05737126344056⋅D    ⋅N     ⋅Q   \n",
       "                                           ⎝                                  \n",
       "\n",
       "                                       0.09      0.03⎞\n",
       " ⎛             Nr⎞   868.681853770701⋅D    ⋅Np⋅Ns    ⎟\n",
       "⋅⎝6.0 - 5.0⋅0.9  ⎠ + ────────────────────────────────⎟\n",
       "                                    N                ⎠"
      ]
     },
     "execution_count": 4,
     "metadata": {},
     "output_type": "execute_result"
    }
   ],
   "source": [
    " Eq(Symbol('DPS'), data[\"dps\"])"
   ]
  },
  {
   "cell_type": "markdown",
   "metadata": {},
   "source": [
    "Shell velocity:"
   ]
  },
  {
   "cell_type": "code",
   "execution_count": 5,
   "metadata": {},
   "outputs": [
    {
     "data": {
      "image/png": "[encoded data removed]",
      "text/latex": [
       "$\\displaystyle V = \\frac{0.845897010752451 Q^{0.5} \\left(6.0 - 5.0 \\cdot 0.9^{Nr}\\right)}{D^{1.0} N^{0.25}} + \\frac{694.94548301656 D^{0.09} Np Ns^{0.03}}{N}$"
      ],
      "text/plain": [
       "                                                                             0\n",
       "                       -1.0  -0.25  0.5 ⎛             Nr⎞   694.94548301656⋅D \n",
       "V = 0.845897010752451⋅D    ⋅N     ⋅Q   ⋅⎝6.0 - 5.0⋅0.9  ⎠ + ──────────────────\n",
       "                                                                           N  \n",
       "\n",
       ".09      0.03\n",
       "   ⋅Np⋅Ns    \n",
       "─────────────\n",
       "             "
      ]
     },
     "execution_count": 5,
     "metadata": {},
     "output_type": "execute_result"
    }
   ],
   "source": [
    "Eq(Symbol('V'), data['vp'] + data['vr'])"
   ]
  },
  {
   "cell_type": "markdown",
   "metadata": {},
   "source": [
    "## Partial derrivatives ##\n",
    "\n",
    "Let's calculate partial derrivateves. It will provide us some insight how these values will influence effective DPS:"
   ]
  },
  {
   "cell_type": "code",
   "execution_count": 6,
   "metadata": {},
   "outputs": [
    {
     "data": {
      "image/png": "[encoded data removed]",
      "text/latex": [
       "$\\displaystyle \\frac{\\partial DPS}{\\partial D} = \\frac{422.952601029242 Np Ns^{0.68}}{D^{0.46} N^{1.5}} + Q^{0.5} \\left(\\frac{2.62178689237804 \\cdot 0.9^{Nr} Ns^{0.65}}{D^{1.55} N^{0.75}} - \\frac{3.14614427085365 Ns^{0.65}}{D^{1.55} N^{0.75}}\\right)$"
      ],
      "text/plain": [
       "                                                    -0.46  -1.5      0.68    0\n",
       "\\frac{\\partial DPS}{\\partial D} = 422.952601029242⋅D     ⋅N    ⋅Np⋅Ns     + Q \n",
       "\n",
       ".5 ⎛                    Nr  -1.55  -0.75   0.65                     -1.55  -0.\n",
       "  ⋅⎝2.62178689237804⋅0.9  ⋅D     ⋅N     ⋅Ns     - 3.14614427085365⋅D     ⋅N   \n",
       "\n",
       "75   0.65⎞\n",
       "  ⋅Ns    ⎠"
      ]
     },
     "execution_count": 6,
     "metadata": {},
     "output_type": "execute_result"
    }
   ],
   "source": [
    "Eq(Symbol('\\\\frac{\\\\partial DPS}{\\\\partial D}'), collect(diff(expand(dps), diameter), charge))"
   ]
  },
  {
   "cell_type": "markdown",
   "metadata": {},
   "source": [
    "This result is controversal. If you have no rail charge, then increasing diameter certainly increases your effective DPS. If you have some rail charge, then increasing your diameter makes your DPS worse."
   ]
  },
  {
   "cell_type": "markdown",
   "metadata": {},
   "source": [
    "Trying to solve $\\frac{\\partial DPS}{\\partial D}=0$ for $D$. It will be our optimum."
   ]
  },
  {
   "cell_type": "code",
   "execution_count": 36,
   "metadata": {},
   "outputs": [
    {
     "data": {
      "image/png": "[encoded data removed]",
      "text/latex": [
       "$\\displaystyle \\frac{2.62178689237804 \\cdot 0.9^{Nr} Ns^{0.65} Q^{0.5}}{D^{1.55} N^{0.75}} - \\frac{3.14614427085365 Ns^{0.65} Q^{0.5}}{D^{1.55} N^{0.75}} + \\frac{422.952601029242 Np Ns^{0.68}}{D^{0.46} N^{1.5}} = 0$"
      ],
      "text/plain": [
       "                    Nr  -1.55  -0.75   0.65  0.5                     -1.55  -0\n",
       "2.62178689237804⋅0.9  ⋅D     ⋅N     ⋅Ns    ⋅Q    - 3.14614427085365⋅D     ⋅N  \n",
       "\n",
       ".75   0.65  0.5                     -0.46  -1.5      0.68    \n",
       "   ⋅Ns    ⋅Q    + 422.952601029242⋅D     ⋅N    ⋅Np⋅Ns     = 0"
      ]
     },
     "execution_count": 36,
     "metadata": {},
     "output_type": "execute_result"
    }
   ],
   "source": [
    "diameter_diff = expand(diff(expand(dps), diameter))\n",
    "Eq(expand(diameter_diff))"
   ]
  },
  {
   "cell_type": "code",
   "execution_count": 40,
   "metadata": {},
   "outputs": [
    {
     "data": {
      "image/png": "[encoded data removed]",
      "text/latex": [
       "$\\displaystyle D^{1.09} = \\frac{0.00236433112733325 N^{0.75} Q^{0.5} \\left(2.62178689237804 \\cdot 0.9^{Nr} - 3.14614427085365\\right)}{Np Ns^{0.03}}$"
      ],
      "text/plain": [
       "                             0.75   -0.03  0.5 ⎛                    Nr        \n",
       " 1.09   0.00236433112733325⋅N    ⋅Ns     ⋅Q   ⋅⎝2.62178689237804⋅0.9   - 3.146\n",
       "D     = ──────────────────────────────────────────────────────────────────────\n",
       "                                                Np                            \n",
       "\n",
       "           ⎞\n",
       "14427085365⎠\n",
       "────────────\n",
       "            "
      ]
     },
     "execution_count": 40,
     "metadata": {},
     "output_type": "execute_result"
    }
   ],
   "source": [
    "'Eq(2.62178689237804*0.9**Nr*N**(-0.75)*Ns**0.65*Q**0.5 - 3.14614427085365*N**(-0.75)*Ns**0.65*Q**0.5 + 422.952601029242*D**(1.09)*N**(-1.5)*Np*Ns**0.68, 0)'\n",
    "best_diameter = Eq(diameter**1.09 , charge**0.5 * modules**0.75 * (2.62178689237804*0.9**rail - 3.14614427085365) / (422.952601029242*numShell**0.03 * propellant))\n",
    "best_diameter"
   ]
  },
  {
   "cell_type": "code",
   "execution_count": 49,
   "metadata": {},
   "outputs": [
    {
     "data": {
      "image/png": "[encoded data removed]",
      "text/latex": [
       "$\\displaystyle \\frac{0.00389545393747667 N^{0.688073394495413} Q^{0.458715596330275} \\left(2.62178689237804 \\cdot 0.9^{Nr} - 3.14614427085365\\right)^{0.91743119266055}}{Np^{0.91743119266055} Ns^{0.0275229357798165}}$"
      ],
      "text/plain": [
       "                                                                              \n",
       "                     0.688073394495413   -0.91743119266055   -0.02752293577981\n",
       "0.00389545393747667⋅N                 ⋅Np                 ⋅Ns                 \n",
       "\n",
       "                                                                 0.91743119266\n",
       "65  0.458715596330275 ⎛                    Nr                   ⎞             \n",
       "  ⋅Q                 ⋅⎝2.62178689237804⋅0.9   - 3.14614427085365⎠             \n",
       "\n",
       "055\n",
       "   \n",
       "   "
      ]
     },
     "execution_count": 49,
     "metadata": {},
     "output_type": "execute_result"
    }
   ],
   "source": [
    "best_diameter = (charge**0.5 * modules**0.75 * (2.62178689237804*0.9**rail - 3.14614427085365) / (422.952601029242*numShell**0.03 * propellant))**(1/1.09)\n",
    "best_diameter"
   ]
  },
  {
   "cell_type": "code",
   "execution_count": 54,
   "metadata": {},
   "outputs": [
    {
     "data": {
      "image/png": "[encoded data removed]",
      "text/latex": [
       "$\\displaystyle \\frac{1132494.22156817 Np^{2.3394495412844} Ns^{0.720183486238532}}{N^{2.5045871559633} Q^{0.669724770642202} \\left(2.62178689237804 \\cdot 0.9^{Nr} - 3.14614427085365\\right)^{2.3394495412844}} - \\frac{640965.633555469 Np^{2.3394495412844} Ns^{0.720183486238532}}{N^{2.5045871559633} Q^{0.669724770642202} \\left(2.62178689237804 \\cdot 0.9^{Nr} - 3.14614427085365\\right)^{1.3394495412844}}$"
      ],
      "text/plain": [
       "                                                                              \n",
       "                  -2.5045871559633   2.3394495412844   0.720183486238532  -0.6\n",
       "1132494.22156817⋅N                ⋅Np               ⋅Ns                 ⋅Q    \n",
       "\n",
       "                                                          -2.3394495412844    \n",
       "69724770642202 ⎛                    Nr                   ⎞                    \n",
       "              ⋅⎝2.62178689237804⋅0.9   - 3.14614427085365⎠                 - 6\n",
       "\n",
       "                                                                              \n",
       "                 -2.5045871559633   2.3394495412844   0.720183486238532  -0.66\n",
       "40965.633555469⋅N                ⋅Np               ⋅Ns                 ⋅Q     \n",
       "\n",
       "                                                         -1.3394495412844\n",
       "9724770642202 ⎛                    Nr                   ⎞                \n",
       "             ⋅⎝2.62178689237804⋅0.9   - 3.14614427085365⎠                "
      ]
     },
     "execution_count": 54,
     "metadata": {},
     "output_type": "execute_result"
    }
   ],
   "source": [
    "diameter_diff2 = diff(diameter_diff.replace(rail, 0), diameter)\n",
    "diameter_diff2.replace(diameter, best_diameter)"
   ]
  },
  {
   "cell_type": "code",
   "execution_count": 11,
   "metadata": {},
   "outputs": [
    {
     "data": {
      "image/png": "[encoded data removed]",
      "text/latex": [
       "$\\displaystyle \\frac{\\partial Damage}{\\partial D} = \\frac{40877.3209893733 D^{1.04} Np Ns^{0.03} \\left(N - Np - Nr\\right)^{0.65}}{N} + Q^{0.5} \\left(- \\frac{218.83297430185 \\cdot 0.9^{Nr} D^{0.2} \\left(N - Np - Nr\\right)^{0.65}}{Ns^{0.25}} + \\frac{262.59956916222 D^{0.2} \\left(N - Np - Nr\\right)^{0.65}}{Ns^{0.25}}\\right)$"
      ],
      "text/plain": [
       "                                                       1.04      0.03         \n",
       "                                     40877.3209893733⋅D    ⋅Np⋅Ns    ⋅(N - Np \n",
       "\\frac{\\partial Damage}{\\partial D} = ─────────────────────────────────────────\n",
       "                                                             N                \n",
       "\n",
       "     0.65                                                                     \n",
       "- Nr)        0.5 ⎛                     Nr  0.2   -0.25              0.65      \n",
       "───────── + Q   ⋅⎝- 218.83297430185⋅0.9  ⋅D   ⋅Ns     ⋅(N - Np - Nr)     + 262\n",
       "                                                                              \n",
       "\n",
       "                                            \n",
       "              0.2   -0.25              0.65⎞\n",
       ".59956916222⋅D   ⋅Ns     ⋅(N - Np - Nr)    ⎠\n",
       "                                            "
      ]
     },
     "execution_count": 11,
     "metadata": {},
     "output_type": "execute_result"
    }
   ],
   "source": [
    "Eq(Symbol('\\\\frac{\\\\partial Damage}{\\\\partial D}'), collect(diff(expand(data['damage']['kinetic'][0]), diameter), charge))"
   ]
  },
  {
   "cell_type": "markdown",
   "metadata": {},
   "source": [
    "This derrivative is positive function. Seems like actual DPS for rails is being reduced by reloading time."
   ]
  },
  {
   "cell_type": "code",
   "execution_count": 12,
   "metadata": {},
   "outputs": [
    {
     "data": {
      "image/png": "[encoded data removed]",
      "text/latex": [
       "$\\displaystyle \\frac{\\partial DPS}{\\partial Q} = \\frac{0.71281560620714 \\left(6.0 - 5.0 \\cdot 0.9^{Nr}\\right) \\left(N - Np - Nr\\right)^{0.65}}{D^{0.3} N^{0.5} Ns^{0.25} Q^{0.5}}$"
      ],
      "text/plain": [
       "                                                    -0.3  -0.5   -0.25  -0.5 ⎛\n",
       "\\frac{\\partial DPS}{\\partial Q} = 0.71281560620714⋅D    ⋅N    ⋅Ns     ⋅Q    ⋅⎝\n",
       "\n",
       "             Nr⎞              0.65\n",
       "6.0 - 5.0⋅0.9  ⎠⋅(N - Np - Nr)    "
      ]
     },
     "execution_count": 12,
     "metadata": {},
     "output_type": "execute_result"
    }
   ],
   "source": [
    "Eq(Symbol('\\\\frac{\\\\partial DPS}{\\\\partial Q}'), diff(dps, charge))"
   ]
  },
  {
   "cell_type": "markdown",
   "metadata": {},
   "source": [
    "This derrivateve is strictly positive. It means that increasing rail charge never hurts you"
   ]
  },
  {
   "cell_type": "code",
   "execution_count": 13,
   "metadata": {},
   "outputs": [
    {
     "data": {
      "image/png": "[encoded data removed]",
      "text/latex": [
       "$\\displaystyle \\frac{\\partial DPS}{\\partial Np} = \\frac{- 509.109612350013 D^{0.84} N^{2.0} Np Ns^{0.28} \\left(N - Np - Nr\\right)^{0.35} + 783.245557461559 D^{0.84} N^{2.0} Ns^{0.28} \\left(N - Np - Nr\\right)^{1.35} + N^{3.0} Q^{0.5} \\left(4.63330144034641 \\cdot 0.9^{Nr} - 5.55996172841569\\right) \\left(N - Np - Nr\\right)^{0.35}}{D^{0.3} N^{3.5} Ns^{0.25} \\left(N - Np - Nr\\right)^{0.7}}$"
      ],
      "text/plain": [
       "                                    -0.3  -3.5   -0.25              -0.7 ⎛    \n",
       "\\frac{\\partial DPS}{\\partial Np} = D    ⋅N    ⋅Ns     ⋅(N - Np - Nr)    ⋅⎝- 50\n",
       "\n",
       "                0.84  2.0      0.28              0.35                     0.84\n",
       "9.109612350013⋅D    ⋅N   ⋅Np⋅Ns    ⋅(N - Np - Nr)     + 783.245557461559⋅D    \n",
       "\n",
       "  2.0   0.28              1.35    3.0  0.5 ⎛                    Nr            \n",
       "⋅N   ⋅Ns    ⋅(N - Np - Nr)     + N   ⋅Q   ⋅⎝4.63330144034641⋅0.9   - 5.5599617\n",
       "\n",
       "       ⎞              0.35⎞\n",
       "2841569⎠⋅(N - Np - Nr)    ⎠"
      ]
     },
     "execution_count": 13,
     "metadata": {},
     "output_type": "execute_result"
    }
   ],
   "source": [
    "Eq(Symbol('\\\\frac{\\\\partial DPS}{\\\\partial Np}'), simplify(expand(diff(dps, propellant))))"
   ]
  },
  {
   "cell_type": "markdown",
   "metadata": {},
   "source": [
    "This derrivateve is ... complicated. We could try to calculate optimumm for propellant charges, but it is more convenient to leave it to dynamic optimizer."
   ]
  },
  {
   "cell_type": "markdown",
   "metadata": {},
   "source": [
    "## Rail boost for propellant-only shells ##"
   ]
  },
  {
   "cell_type": "code",
   "execution_count": 14,
   "metadata": {},
   "outputs": [],
   "source": [
    "data_prop = FTD.calcWeaponDPS({\n",
    "    \"diameter\": diameter, \n",
    "    \"numExplosive\": 0,\n",
    "    \"modules\": modules,\n",
    "    \"propellant\": propellant,\n",
    "    \"speedC\": 1.0,\n",
    "    \"kineticC\": 1.0,\n",
    "    \"armorC\": 1,\n",
    "    \"rails\": 0,\n",
    "    \"loaders\": 1,\n",
    "    \"clipsPerLoader\": 3,\n",
    "    \"velCharge\": charge\n",
    "})\n",
    "dps_prop = data_prop['dps']"
   ]
  },
  {
   "cell_type": "code",
   "execution_count": 15,
   "metadata": {},
   "outputs": [
    {
     "data": {
      "image/png": "[encoded data removed]",
      "text/latex": [
       "$\\displaystyle \\frac{0.901648346931288 D^{0.45} \\left(N - Np\\right)^{0.65} \\left(\\frac{1.58113883008419 Q^{0.5}}{D^{0.75} \\left(N - Np\\right)^{0.25}} + \\frac{868.681853770701 D^{0.09} Np \\left(N - Np\\right)^{0.03}}{N}\\right)}{N^{0.5}}$"
      ],
      "text/plain": [
       "                                           ⎛                                  \n",
       "                   0.45  -0.5         0.65 ⎜                  -0.75  0.5      \n",
       "0.901648346931288⋅D    ⋅N    ⋅(N - Np)    ⋅⎜1.58113883008419⋅D     ⋅Q   ⋅(N - \n",
       "                                           ⎝                                  \n",
       "\n",
       "                             0.09            0.03⎞\n",
       "   -0.25   868.681853770701⋅D    ⋅Np⋅(N - Np)    ⎟\n",
       "Np)      + ──────────────────────────────────────⎟\n",
       "                             N                   ⎠"
      ]
     },
     "execution_count": 15,
     "metadata": {},
     "output_type": "execute_result"
    }
   ],
   "source": [
    "dps_prop"
   ]
  },
  {
   "cell_type": "code",
   "execution_count": 16,
   "metadata": {},
   "outputs": [
    {
     "data": {
      "image/png": "[encoded data removed]",
      "text/latex": [
       "$\\displaystyle \\frac{\\partial DPS}{\\partial D} = - \\frac{0.427689363724284 Q^{0.5} \\left(N - Np\\right)^{0.4}}{D^{1.3} N^{0.5}} + \\frac{422.952601029242 Np \\left(N - Np\\right)^{0.68}}{D^{0.46} N^{1.5}}$"
      ],
      "text/plain": [
       "                                                       -1.3  -0.5  0.5        \n",
       "\\frac{\\partial DPS}{\\partial D} = - 0.427689363724284⋅D    ⋅N    ⋅Q   ⋅(N - Np\n",
       "\n",
       " 0.4                     -0.46  -1.5            0.68\n",
       ")    + 422.952601029242⋅D     ⋅N    ⋅Np⋅(N - Np)    "
      ]
     },
     "execution_count": 16,
     "metadata": {},
     "output_type": "execute_result"
    }
   ],
   "source": [
    "Eq(Symbol('\\\\frac{\\\\partial DPS}{\\\\partial D}'), collect(diff(expand(dps_prop), diameter), charge))"
   ]
  },
  {
   "cell_type": "code",
   "execution_count": 17,
   "metadata": {},
   "outputs": [
    {
     "data": {
      "image/png": "[encoded data removed]",
      "text/latex": [
       "$\\displaystyle \\frac{\\partial DPS}{\\partial Q} = \\frac{0.71281560620714 \\left(N - Np\\right)^{0.4}}{D^{0.3} N^{0.5} Q^{0.5}}$"
      ],
      "text/plain": [
       "                                                    -0.3  -0.5  -0.5         0\n",
       "\\frac{\\partial DPS}{\\partial Q} = 0.71281560620714⋅D    ⋅N    ⋅Q    ⋅(N - Np) \n",
       "\n",
       ".4\n",
       "  "
      ]
     },
     "execution_count": 17,
     "metadata": {},
     "output_type": "execute_result"
    }
   ],
   "source": [
    "Eq(Symbol('\\\\frac{\\\\partial DPS}{\\\\partial Q}'), diff(dps_prop, charge))"
   ]
  },
  {
   "cell_type": "markdown",
   "metadata": {},
   "source": [
    "Though returns are certainly diminishing, but this derivative is positive function. If you have spare energy - feel free to pump it to your cannon."
   ]
  }
 ],
 "metadata": {
  "kernelspec": {
   "display_name": "Python 3",
   "language": "python",
   "name": "python3"
  },
  "language_info": {
   "codemirror_mode": {
    "name": "ipython",
    "version": 3
   },
   "file_extension": ".py",
   "mimetype": "text/x-python",
   "name": "python",
   "nbconvert_exporter": "python",
   "pygments_lexer": "ipython3",
   "version": "3.5.2"
  }
 },
 "nbformat": 4,
 "nbformat_minor": 1
}
