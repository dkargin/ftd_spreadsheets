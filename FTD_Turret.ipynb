{
 "cells": [
  {
   "cell_type": "markdown",
   "metadata": {},
   "source": [
    "# Spreadsheet for advanced cannons #\n",
    "\n",
    "Using data from https://fromthedepths.gamepedia.com/index.php?title=Advanced_Cannon&oldid=8383"
   ]
  },
  {
   "cell_type": "code",
   "execution_count": 1,
   "metadata": {},
   "outputs": [],
   "source": [
    "from sympy import *\n",
    "import math\n",
    "from IPython.display import HTML, display\n",
    "import ftd_calc as FTD\n",
    "init_printing()"
   ]
  },
  {
   "cell_type": "code",
   "execution_count": 2,
   "metadata": {},
   "outputs": [],
   "source": [
    "def formatValue(key, value):\n",
    "    if key == 'diameter':\n",
    "        return '{:3}'.format(math.floor(value*1000))\n",
    "    if key == 'damage':\n",
    "        damage_data = []\n",
    "        for dtype, damage in value.items():\n",
    "            if isinstance(damage, tuple) and len(damage) == 2:\n",
    "                damage_data.append('{0}={1:3d}:{2:3.1f}'.format(dtype, int(damage[0]), damage[1]))\n",
    "            else:\n",
    "                damage_data.append('{0}={1}'.format(dtype, str(damage)))\n",
    "        return '</br>'.join(damage_data)\n",
    "    if isinstance(value, float):\n",
    "        return '{: 3.2f}'.format(value)\n",
    "    \n",
    "    return str(value)\n",
    "\n",
    "def displayTable(results, columns):\n",
    "    # Row start - caption\n",
    "    # Column - output variant\n",
    "    # html = <table><tr><td>Name</td><td>Data1</td></tr></table>\n",
    "    caption = '<td>{}</td>'.format('</td><td>'.join('<b>{}</b>'.format(str(key).upper()) for key in columns))\n",
    "    rows = []\n",
    "    for row in results:\n",
    "        line = '</td><td>'.join(formatValue(key, row[key]) for key in columns)\n",
    "        rows.append('<td>{}</td>'.format(line))\n",
    "    \n",
    "    htmlData = '</tr><tr>'.join(rows)\n",
    "    return display(HTML('<table><tr>' + caption + '</tr><tr>' + htmlData + '</tr></table>'))"
   ]
  },
  {
   "cell_type": "markdown",
   "metadata": {},
   "source": [
    "# AC #"
   ]
  },
  {
   "cell_type": "code",
   "execution_count": 3,
   "metadata": {},
   "outputs": [],
   "source": [
    "diameter = symbols(\"D\", positive=True)\n",
    "numExplosive, modules, propellant, rail = symbols('Ne N Np Nr', positive=True)\n",
    "charge = symbols(\"Q\")\n",
    "\n",
    "speedC = 1\n",
    "kineticC = 1\n",
    "railCharge = 0"
   ]
  },
  {
   "cell_type": "code",
   "execution_count": 4,
   "metadata": {
    "code_folding": []
   },
   "outputs": [],
   "source": [
    "context = {\n",
    "    \"diameter\": 0.5, \n",
    "    \"numExplosive\": 0,\n",
    "    \"modules\": modules,\n",
    "    \"propellant\": propellant,\n",
    "    \"speedC\": speedC,\n",
    "    \"kineticC\": kineticC,\n",
    "    \"velCharge\": Q,\n",
    "    \"rails\": rail\n",
    "}"
   ]
  },
  {
   "cell_type": "markdown",
   "metadata": {},
   "source": [
    "DPS calculus example"
   ]
  },
  {
   "cell_type": "code",
   "execution_count": 5,
   "metadata": {
    "code_folding": []
   },
   "outputs": [
    {
     "data": {
      "image/png": "[encoded data removed]",
      "text/latex": [
       "$\\displaystyle \\frac{0.901648346931288 D^{0.45} \\left(\\frac{1.05737126344056 Q^{0.5} \\left(6.0 - 5.0 \\cdot 0.9^{Nr}\\right)}{D^{1.0} \\left(N - Np - Nr\\right)^{0.25}} + \\frac{868.681853770701 D^{0.09} Np \\left(N - Np - Nr\\right)^{0.03}}{N}\\right) \\left(N - Np - Nr\\right)^{0.65}}{N^{0.5}}$"
      ],
      "text/plain": [
       "                              ⎛                                               \n",
       "                   0.45  -0.5 ⎜                  -1.0  0.5 ⎛             Nr⎞  \n",
       "0.901648346931288⋅D    ⋅N    ⋅⎜1.05737126344056⋅D    ⋅Q   ⋅⎝6.0 - 5.0⋅0.9  ⎠⋅(\n",
       "                              ⎝                                               \n",
       "\n",
       "                                      0.09                 0.03⎞              \n",
       "            -0.25   868.681853770701⋅D    ⋅Np⋅(N - Np - Nr)    ⎟              \n",
       "N - Np - Nr)      + ───────────────────────────────────────────⎟⋅(N - Np - Nr)\n",
       "                                         N                     ⎠              \n",
       "\n",
       "    \n",
       "0.65\n",
       "    \n",
       "    "
      ]
     },
     "execution_count": 5,
     "metadata": {},
     "output_type": "execute_result"
    }
   ],
   "source": [
    "diameter = symbols(\"D\", positive=True)\n",
    "numExplosive, modules, propellant, rail = symbols('Ne N Np Nr', positive=True)\n",
    "charge = symbols(\"Q\")\n",
    "\n",
    "data = FTD.calcDPS({\n",
    "    \"diameter\": diameter, \n",
    "    \"numExplosive\": 0,\n",
    "    \"modules\": modules,\n",
    "    \"propellant\": propellant,\n",
    "    \"speedC\": speedC,\n",
    "    \"kineticC\": kineticC,\n",
    "    \"armorC\": 1,\n",
    "    \"rails\": rail,\n",
    "    \"loaders\": 1,\n",
    "    \"clipsPerLoader\": 3,\n",
    "    \"velCharge\": charge\n",
    "})\n",
    "dps = data[\"dps\"]\n",
    "dps"
   ]
  },
  {
   "cell_type": "markdown",
   "metadata": {},
   "source": [
    "Shell data:\n",
    "\n",
    "DPS\n",
    ">{{dps}}\n",
    "\n",
    "Velocity = {{data}}"
   ]
  },
  {
   "cell_type": "code",
   "execution_count": 6,
   "metadata": {
    "scrolled": true
   },
   "outputs": [
    {
     "data": {
      "image/png": "[encoded data removed]",
      "text/latex": [
       "$\\displaystyle \\frac{2.62178689237804 \\cdot 0.9^{Nr} Q^{0.5} \\left(N - Np - Nr\\right)^{0.4}}{D^{1.55} N^{0.5}} - \\frac{3.14614427085365 Q^{0.5} \\left(N - Np - Nr\\right)^{0.4}}{D^{1.55} N^{0.5}} + \\frac{422.952601029242 Np \\left(N - Np - Nr\\right)^{0.68}}{D^{0.46} N^{1.5}}$"
      ],
      "text/plain": [
       "                    Nr  -1.55  -0.5  0.5              0.4                     \n",
       "2.62178689237804⋅0.9  ⋅D     ⋅N    ⋅Q   ⋅(N - Np - Nr)    - 3.14614427085365⋅D\n",
       "\n",
       "-1.55  -0.5  0.5              0.4                     -0.46  -1.5             \n",
       "     ⋅N    ⋅Q   ⋅(N - Np - Nr)    + 422.952601029242⋅D     ⋅N    ⋅Np⋅(N - Np -\n",
       "\n",
       "    0.68\n",
       " Nr)    "
      ]
     },
     "execution_count": 6,
     "metadata": {},
     "output_type": "execute_result"
    }
   ],
   "source": [
    "diff(expand(dps), diameter)"
   ]
  },
  {
   "cell_type": "markdown",
   "metadata": {},
   "source": [
    "According to results, there are some situations when we get negative DPS if we fiddle with railguns"
   ]
  },
  {
   "cell_type": "code",
   "execution_count": 7,
   "metadata": {
    "code_folding": [
     0,
     5
    ]
   },
   "outputs": [],
   "source": [
    "def checkResult(config):\n",
    "    if config.get(\"velocity\", 0)  < 50:\n",
    "        return -1.0\n",
    "    return config[\"dps\"]"
   ]
  },
  {
   "cell_type": "markdown",
   "metadata": {},
   "source": [
    "## Checking shell modifiers ##"
   ]
  },
  {
   "cell_type": "code",
   "execution_count": 8,
   "metadata": {},
   "outputs": [
    {
     "data": {
      "image/png": "[encoded data removed]",
      "text/latex": [
       "$\\displaystyle 1.2024335406700017$"
      ],
      "text/plain": [
       "1.2024335406700017"
      ]
     },
     "execution_count": 8,
     "metadata": {},
     "output_type": "execute_result"
    }
   ],
   "source": [
    "shell_bp = ['apcap', 'bleeder', 'bleeder', 'bleeder', 'bleeder', 'bleeder', 'bleeder', 'bleeder', 'bleeder', 'bleeder', 'bleeder', 'bleeder', 'bleeder', 'rail', 'rail', 'rail']\n",
    "FTD.calcSpeedMod(shell_bp)"
   ]
  },
  {
   "cell_type": "code",
   "execution_count": 9,
   "metadata": {},
   "outputs": [
    {
     "data": {
      "image/png": "[encoded data removed]",
      "text/latex": [
       "$\\displaystyle 1.6923076923076923$"
      ],
      "text/plain": [
       "1.6923076923076923"
      ]
     },
     "execution_count": 9,
     "metadata": {},
     "output_type": "execute_result"
    }
   ],
   "source": [
    "FTD.calcKineticMod(shell_bp)"
   ]
  },
  {
   "cell_type": "markdown",
   "metadata": {},
   "source": [
    "# Calculates the best shell for 1 and 2-loaders #\n",
    "Will output 4 groups of variants"
   ]
  },
  {
   "cell_type": "code",
   "execution_count": 10,
   "metadata": {
    "scrolled": true
   },
   "outputs": [],
   "source": [
    "loaderSize = 1\n",
    "batch = 4\n",
    "results = FTD.calcBestShells(2, 4, batch, dict(loaders=1, clipsPerLoader=1, velCharge=0), checkResult)\n",
    "results += FTD.calcBestShells(1, 16, batch, dict(loaders=1, clipsPerLoader=1, velCharge=1000), checkResult)"
   ]
  },
  {
   "cell_type": "code",
   "execution_count": 11,
   "metadata": {
    "scrolled": true
   },
   "outputs": [
    {
     "data": {
      "text/html": [
       "<table><tr><td><b>DPS</b></td><td><b>DAMAGE</b></td><td><b>DIAMETER</b></td><td><b>VELOCITY</b></td><td><b>PERIOD</b></td><td><b>SHELL</b></td></tr><tr><td> 597.36</td><td>kinetic=13755:4.5</br>HE=2985:4.5</td><td>500</td><td> 200.56</td><td> 28.02</td><td>['apcap', 'HE', 'bleeder', 'gunpowder']</td></tr><tr><td> 630.93</td><td>kinetic=17681:7.7</td><td>500</td><td> 393.90</td><td> 28.02</td><td>['apcap', 'bleeder', 'gunpowder', 'gunpowder']</td></tr><tr><td> 635.08</td><td>kinetic=16913:7.1</br>HE=2985:7.1</td><td>500</td><td> 333.32</td><td> 31.33</td><td>['apcap', 'HE', 'gunpowder', 'gunpowder']</td></tr><tr><td> 643.62</td><td>kinetic=20166:7.6</td><td>500</td><td> 333.32</td><td> 31.33</td><td>['apcap', 'solid', 'gunpowder', 'gunpowder']</td></tr><tr><td> 1070.67</td><td>kinetic=2965:30.0</td><td> 62</td><td> 1257.95</td><td> 2.77</td><td>['apcap', 'solid', 'solid', 'solid', 'solid', 'solid', 'bleeder', 'gunpowder', 'rail', 'rail', 'rail', 'rail', 'rail', 'rail', 'rail', 'rail']</td></tr><tr><td> 1080.50</td><td>kinetic=2992:33.3</td><td> 62</td><td> 1396.83</td><td> 2.77</td><td>['apcap', 'solid', 'solid', 'solid', 'solid', 'bleeder', 'rail', 'rail', 'rail', 'rail', 'rail', 'rail', 'rail', 'rail', 'rail', 'rail']</td></tr><tr><td> 1086.97</td><td>kinetic=3010:28.0</td><td> 62</td><td> 1175.01</td><td> 2.77</td><td>['apcap', 'solid', 'solid', 'solid', 'solid', 'solid', 'solid', 'bleeder', 'rail', 'rail', 'rail', 'rail', 'rail', 'rail', 'rail', 'rail']</td></tr><tr><td> 1091.87</td><td>kinetic=3023:30.6</td><td> 62</td><td> 1282.86</td><td> 2.77</td><td>['apcap', 'solid', 'solid', 'solid', 'solid', 'solid', 'bleeder', 'rail', 'rail', 'rail', 'rail', 'rail', 'rail', 'rail', 'rail', 'rail']</td></tr></table>"
      ],
      "text/plain": [
       "<IPython.core.display.HTML object>"
      ]
     },
     "metadata": {},
     "output_type": "display_data"
    }
   ],
   "source": [
    "displayTable(results, [\"dps\", \"damage\", \"diameter\", \"velocity\", \"period\", \"shell\"])"
   ]
  },
  {
   "cell_type": "markdown",
   "metadata": {},
   "source": [
    "What do we see here:\n",
    "\n",
    " - Velocity for bleeder is lower than actual: 203 vs 257 for (HE; HE; bleed; gunpowder)\n",
    " - Kinetic damage is mostly accurate when velocity is accurate\n",
    " - HE damage is accurate\n",
    " - Reloading period is accurate\n",
    " - AP seems to be accurate when velocity is accurate\n",
    "\n",
    "According to wiki:\n",
    ">$AP=0.01av$\n",
    "\n",
    "Some modules have maximum length, like bleeder.\n"
   ]
  },
  {
   "cell_type": "code",
   "execution_count": 21,
   "metadata": {},
   "outputs": [],
   "source": [
    "real_data = {\n",
    "    ('HE', 'gunpowder'): dict(D=0.5, T=22.16, velocity=326, ap=3.0, exp=2985, kin=2842),\n",
    "    ('HE', 'HE', 'HE', 'gunpowder'): dict(D=0.5, velocity=169, ap=2.5, exp=6096, kin=6428),\n",
    "    ('solid', 'solid', 'solid', 'gunpowder'): dict(D=0.5, velocity=219, ap=4.4, kin=16713),\n",
    "    ('solid', 'solid', 'gunpowder', 'gunpowder'): dict(D=0.5, velocity=219, ap=4.4, kin=17760),\n",
    "    ('HE', 'HE', 'gunpowder', 'gunpowder'): dict(D=0.5, T=31.33, velocity=333, ap=4.2, exp=4684, kin=7196),\n",
    "    ('HE', 'HE', 'bleeder', 'gunpowder'): dict(D=0.5, T=28.7, velocity=257, ap=3.5, exp=4684, kin=6399),\n",
    "    ('HE', 'gunpowder', 'gunpowder', 'gunpowder'): dict(D=0.5, velocity=490, ap=4.6, exp=2985, kin=4263)\n",
    "}"
   ]
  },
  {
   "cell_type": "markdown",
   "metadata": {},
   "source": [
    "We need to check whether value 0.01 is for AP is actual. Also we should calculate velocity error."
   ]
  },
  {
   "cell_type": "markdown",
   "metadata": {},
   "source": [
    "## Comparing with real results from FTD ##"
   ]
  },
  {
   "cell_type": "code",
   "execution_count": 14,
   "metadata": {},
   "outputs": [
    {
     "data": {
      "text/plain": [
       "{'accuracy': 0.5954583420518296,\n",
       " 'armorC': 1.3783783783783783,\n",
       " 'barrel_p': 8.0,\n",
       " 'damage': {'HE': (4684.060743551104, 2.790367347567821),\n",
       "  'kinetic': (6170.846882178508, 2.790367347567821)},\n",
       " 'diameter': 0.5,\n",
       " 'dps': 346.4385281404378,\n",
       " 'expMod': 1.0,\n",
       " 'kineticC': 2.0,\n",
       " 'length': 2.0,\n",
       " 'modules': 4,\n",
       " 'numExplosive': 2,\n",
       " 'period': 31.332853432887504,\n",
       " 'propellant': 1,\n",
       " 'shell': ['HE', 'HE', 'bleeder', 'gunpowder'],\n",
       " 'shellLength': 1.5,\n",
       " 'speedC': 1.2,\n",
       " 'velCharge': 0,\n",
       " 'velocity': 202.4384154117831,\n",
       " 'vp': 202.4384154117831}"
      ]
     },
     "execution_count": 14,
     "metadata": {},
     "output_type": "execute_result"
    }
   ],
   "source": [
    "shell_bp = ['HE', 'HE', 'bleeder', 'gunpowder']\n",
    "shell = dict(diameter=0.5, velCharge=0, **FTD.calcBulletStats(shell_bp))\n",
    "FTD.calcCannonData(shell)\n",
    "shell"
   ]
  },
  {
   "cell_type": "code",
   "execution_count": 23,
   "metadata": {},
   "outputs": [
    {
     "data": {
      "text/plain": [
       "{'accuracy': 0.5954583420518296,\n",
       " 'armorC': 2.0,\n",
       " 'barrel_p': 8.0,\n",
       " 'damage': {'kinetic': (12855.931004538555, 3.373973590196385)},\n",
       " 'diameter': 0.5,\n",
       " 'dps': 410.3019545307274,\n",
       " 'expMod': 1.0,\n",
       " 'kineticC': 5.0,\n",
       " 'length': 2.0,\n",
       " 'modules': 4,\n",
       " 'period': 31.332853432887504,\n",
       " 'propellant': 1,\n",
       " 'shell': ['solid', 'solid', 'solid', 'gunpowder'],\n",
       " 'shellLength': 1.5,\n",
       " 'speedC': 1.0,\n",
       " 'velCharge': 0,\n",
       " 'velocity': 168.69867950981924,\n",
       " 'vp': 168.69867950981924}"
      ]
     },
     "execution_count": 23,
     "metadata": {},
     "output_type": "execute_result"
    }
   ],
   "source": [
    "stats = FTD.calcBulletStats(['solid', 'solid', 'solid', 'gunpowder'])\n",
    "shell = dict(diameter=0.50, velCharge=0, **stats)\n",
    "FTD.calcCannonData(shell)\n",
    "shell"
   ]
  },
  {
   "cell_type": "code",
   "execution_count": 17,
   "metadata": {},
   "outputs": [
    {
     "data": {
      "text/plain": [
       "{'accuracy': 0.6655122646461624,\n",
       " 'armorC': 0.9324324324324325,\n",
       " 'barrel_p': 24.0,\n",
       " 'coolers': 3.2481327394196073,\n",
       " 'damage': {'HE': (2985.0596998510123, 4.566008033338468),\n",
       "  'kinetic': (4263.429832734652, 4.566008033338468)},\n",
       " 'diameter': 0.5,\n",
       " 'dps': 231.33831548765122,\n",
       " 'expMod': 1.0,\n",
       " 'kineticC': 1.1666666666666667,\n",
       " 'length': 2.0,\n",
       " 'modules': 4,\n",
       " 'numExplosive': 1,\n",
       " 'period': 31.332853432887504,\n",
       " 'propellant': 3,\n",
       " 'shell': ['HE', 'gunpowder', 'gunpowder', 'gunpowder'],\n",
       " 'shellLength': 0.5,\n",
       " 'speedC': 1.0,\n",
       " 'velCharge': 0,\n",
       " 'velocity': 489.68781806818356,\n",
       " 'vp': 489.68781806818356}"
      ]
     },
     "execution_count": 17,
     "metadata": {},
     "output_type": "execute_result"
    }
   ],
   "source": [
    "stats = FTD.calcBulletStats(['HE', 'gunpowder', 'gunpowder', 'gunpowder'])\n",
    "shell = dict(diameter=0.50, velCharge=0, **stats)\n",
    "FTD.calcCannonData(shell)\n",
    "shell"
   ]
  },
  {
   "cell_type": "code",
   "execution_count": 18,
   "metadata": {},
   "outputs": [
    {
     "data": {
      "image/png": "[encoded data removed]",
      "text/latex": [
       "$\\displaystyle 5.0$"
      ],
      "text/plain": [
       "5.0"
      ]
     },
     "execution_count": 18,
     "metadata": {},
     "output_type": "execute_result"
    }
   ],
   "source": [
    "FTD.calcKineticMod(['solid', 'solid', 'solid', 'gunpowder'])"
   ]
  },
  {
   "cell_type": "code",
   "execution_count": 20,
   "metadata": {},
   "outputs": [
    {
     "data": {
      "text/plain": [
       "{'accuracy': 0.628539361054709,\n",
       " 'armorC': 1.2567567567567568,\n",
       " 'barrel_p': 16.0,\n",
       " 'coolers': 0.8167506081120626,\n",
       " 'damage': {'HE': (4684.060743551104, 4.188998162654085),\n",
       "  'kinetic': (7155.877591700494, 4.188998162654085)},\n",
       " 'diameter': 0.5,\n",
       " 'dps': 377.87615994220926,\n",
       " 'expMod': 1.0,\n",
       " 'kineticC': 1.8333333333333333,\n",
       " 'length': 2.0,\n",
       " 'modules': 4,\n",
       " 'numExplosive': 2,\n",
       " 'period': 31.332853432887504,\n",
       " 'propellant': 2,\n",
       " 'shell': ['HE', 'HE', 'gunpowder', 'gunpowder'],\n",
       " 'shellLength': 1.0,\n",
       " 'speedC': 1.0,\n",
       " 'velCharge': 0,\n",
       " 'velocity': 333.3181333724756,\n",
       " 'vp': 333.3181333724756}"
      ]
     },
     "execution_count": 20,
     "metadata": {},
     "output_type": "execute_result"
    }
   ],
   "source": [
    "stats = FTD.calcBulletStats(['HE', 'HE', 'gunpowder', 'gunpowder'])\n",
    "shell = dict(diameter=0.50, velCharge=0, **stats)\n",
    "FTD.calcCannonData(shell)\n",
    "shell"
   ]
  },
  {
   "cell_type": "markdown",
   "metadata": {},
   "source": [
    "## This is the test for the shell generator ##\n",
    "\n",
    "Should iterate every possible shell variant "
   ]
  },
  {
   "cell_type": "code",
   "execution_count": null,
   "metadata": {},
   "outputs": [],
   "source": [
    "[a for a in FTD.allBodyGen(3)]"
   ]
  },
  {
   "cell_type": "code",
   "execution_count": null,
   "metadata": {},
   "outputs": [],
   "source": [
    "import numpy as np\n",
    "from scipy.optimize import curve_fit\n",
    "\n",
    "# Testing HE,GP,GP,GP \n",
    "values1 = [{\"diameter\":18, \"vel\": 363}, {\"diameter\": 45, \"vel\": 394}, {\"diameter\": 83, \"vel\": 417}, {\"diameter\":101, \"vel\": 424}, {\"diameter\":200, \"vel\":451}, {\"diameter\":251, \"vel\": 460}, {\"diameter\": 500, \"vel\":490}]\n",
    "# Testing HE,HE,GP,GP \n",
    "values2 = [{\"diameter\":18, \"vel\": 247}, {\"diameter\": 45, \"vel\": 268}, {\"diameter\": 83, \"vel\": 284}, {\"diameter\":101, \"vel\": 289}, {\"diameter\":200, \"vel\":307}, {\"diameter\":251, \"vel\": 313}, {\"diameter\": 500, \"vel\":333}]\n",
    "\n",
    "\"\"\"\n",
    "vel[0] = Y*diameter[0]**x\n",
    "...\n",
    "vel[n] = Y*diameter[n]**x\n",
    "\n",
    "err[n] = log(n)\n",
    "\"\"\"\n",
    "def makeFn(modules, props):\n",
    "    def calcVel(diameter, x, y, z):\n",
    "        return z*pow(x*diameter,(1+y)) * (props / (modules+props))\n",
    "    return calcVel"
   ]
  },
  {
   "cell_type": "code",
   "execution_count": null,
   "metadata": {},
   "outputs": [],
   "source": [
    "xdata1 = [a[\"diameter\"] for a in values1]\n",
    "xdata2 = [a[\"diameter\"] for a in values2]\n",
    "ydata1 = [a[\"vel\"] for a in values1]\n",
    "ydata2 = [a[\"vel\"] for a in values2]"
   ]
  },
  {
   "cell_type": "code",
   "execution_count": null,
   "metadata": {},
   "outputs": [],
   "source": [
    "xdata1, xdata2, ydata1, ydata2"
   ]
  },
  {
   "cell_type": "code",
   "execution_count": null,
   "metadata": {},
   "outputs": [],
   "source": [
    "popt1, pcov1 = curve_fit(makeFn(1,3), xdata1, ydata1)\n",
    "popt2, pcov2 = curve_fit(makeFn(2,2), xdata2, ydata2)"
   ]
  },
  {
   "cell_type": "code",
   "execution_count": null,
   "metadata": {},
   "outputs": [],
   "source": [
    "popt1"
   ]
  },
  {
   "cell_type": "code",
   "execution_count": null,
   "metadata": {},
   "outputs": [],
   "source": [
    "popt2"
   ]
  }
 ],
 "metadata": {
  "kernelspec": {
   "display_name": "Python 3",
   "language": "python",
   "name": "python3"
  },
  "language_info": {
   "codemirror_mode": {
    "name": "ipython",
    "version": 3
   },
   "file_extension": ".py",
   "mimetype": "text/x-python",
   "name": "python",
   "nbconvert_exporter": "python",
   "pygments_lexer": "ipython3",
   "version": "3.5.2"
  }
 },
 "nbformat": 4,
 "nbformat_minor": 1
}
