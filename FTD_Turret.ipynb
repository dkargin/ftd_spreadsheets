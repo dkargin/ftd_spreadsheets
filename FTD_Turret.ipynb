{
 "cells": [
  {
   "cell_type": "markdown",
   "metadata": {},
   "source": [
    "# Spreadsheet for advanced cannons #\n",
    "\n",
    "Using data from https://fromthedepths.gamepedia.com/index.php?title=Advanced_Cannon&oldid=8383"
   ]
  },
  {
   "cell_type": "code",
   "execution_count": 1,
   "metadata": {},
   "outputs": [],
   "source": [
    "from sympy import *\n",
    "import math\n",
    "from IPython.display import HTML, display\n",
    "import ftd_calc as FTD\n",
    "init_printing()"
   ]
  },
  {
   "cell_type": "code",
   "execution_count": 2,
   "metadata": {},
   "outputs": [],
   "source": [
    "def formatValue(key, value):\n",
    "    if key == 'diameter':\n",
    "        return '{:3}'.format(math.floor(value*1000))\n",
    "    if key == 'damage':\n",
    "        damage_data = []\n",
    "        for dtype, damage in value.items():\n",
    "            if isinstance(damage, tuple) and len(damage) == 2:\n",
    "                damage_data.append('{0}={1:3d}:{2:3.1f}'.format(dtype, int(damage[0]), damage[1]))\n",
    "            else:\n",
    "                damage_data.append('{0}={1}'.format(dtype, str(damage)))\n",
    "        return '</br>'.join(damage_data)\n",
    "    if isinstance(value, float):\n",
    "        return '{: 3.2f}'.format(value)\n",
    "    \n",
    "    return str(value)\n",
    "\n",
    "def displayTable(results, columns):\n",
    "    # Row start - caption\n",
    "    # Column - output variant\n",
    "    # html = <table><tr><td>Name</td><td>Data1</td></tr></table>\n",
    "    caption = '<td>{}</td>'.format('</td><td>'.join('<b>{}</b>'.format(str(key).upper()) for key in columns))\n",
    "    rows = []\n",
    "    for row in results:\n",
    "        line = '</td><td>'.join(formatValue(key, row[key]) for key in columns)\n",
    "        rows.append('<td>{}</td>'.format(line))\n",
    "    \n",
    "    htmlData = '</tr><tr>'.join(rows)\n",
    "    return display(HTML('<table><tr>' + caption + '</tr><tr>' + htmlData + '</tr></table>'))"
   ]
  },
  {
   "cell_type": "markdown",
   "metadata": {},
   "source": [
    "# AC #"
   ]
  },
  {
   "cell_type": "code",
   "execution_count": 3,
   "metadata": {},
   "outputs": [],
   "source": [
    "diameter = symbols(\"D\", positive=True)\n",
    "numExplosive, modules, propellant, rail = symbols('Ne N Np Nr', positive=True)\n",
    "charge = symbols(\"Q\")\n",
    "\n",
    "speedC = 1\n",
    "kineticC = 1\n",
    "railCharge = 0"
   ]
  },
  {
   "cell_type": "code",
   "execution_count": 4,
   "metadata": {
    "code_folding": []
   },
   "outputs": [],
   "source": [
    "context = {\n",
    "    \"diameter\": 0.5, \n",
    "    \"numExplosive\": 0,\n",
    "    \"modules\": modules,\n",
    "    \"propellant\": propellant,\n",
    "    \"speedC\": speedC,\n",
    "    \"kineticC\": kineticC,\n",
    "    \"velCharge\": Q,\n",
    "    \"rails\": rail\n",
    "}"
   ]
  },
  {
   "cell_type": "markdown",
   "metadata": {},
   "source": [
    "DPS calculus example"
   ]
  },
  {
   "cell_type": "code",
   "execution_count": 5,
   "metadata": {
    "code_folding": []
   },
   "outputs": [
    {
     "data": {
      "image/png": "[encoded data removed]",
      "text/latex": [
       "$\\displaystyle \\frac{0.901648346931288 D^{0.45} \\left(\\frac{1.05737126344056 Q^{0.5} \\left(6.0 - 5.0 \\cdot 0.9^{Nr}\\right)}{D^{0.75} \\left(N - Np - Nr\\right)^{0.25}} + \\frac{868.681853770701 D^{0.09} Np \\left(N - Np - Nr\\right)^{0.03}}{N}\\right) \\left(N - Np - Nr\\right)^{0.65}}{N^{0.5}}$"
      ],
      "text/plain": [
       "                              ⎛                                               \n",
       "                   0.45  -0.5 ⎜                  -0.75  0.5 ⎛             Nr⎞ \n",
       "0.901648346931288⋅D    ⋅N    ⋅⎜1.05737126344056⋅D     ⋅Q   ⋅⎝6.0 - 5.0⋅0.9  ⎠⋅\n",
       "                              ⎝                                               \n",
       "\n",
       "                                       0.09                 0.03⎞             \n",
       "             -0.25   868.681853770701⋅D    ⋅Np⋅(N - Np - Nr)    ⎟             \n",
       "(N - Np - Nr)      + ───────────────────────────────────────────⎟⋅(N - Np - Nr\n",
       "                                          N                     ⎠             \n",
       "\n",
       "     \n",
       " 0.65\n",
       ")    \n",
       "     "
      ]
     },
     "execution_count": 5,
     "metadata": {},
     "output_type": "execute_result"
    }
   ],
   "source": [
    "diameter = symbols(\"D\", positive=True)\n",
    "numExplosive, modules, propellant, rail = symbols('Ne N Np Nr', positive=True)\n",
    "charge = symbols(\"Q\")\n",
    "\n",
    "data = FTD.calcWeaponDPS({\n",
    "    \"diameter\": diameter, \n",
    "    \"numExplosive\": 0,\n",
    "    \"modules\": modules,\n",
    "    \"propellant\": propellant,\n",
    "    \"speedC\": speedC,\n",
    "    \"kineticC\": kineticC,\n",
    "    \"armorC\": 1,\n",
    "    \"rails\": rail,\n",
    "    \"loaders\": 1,\n",
    "    \"clipsPerLoader\": 3,\n",
    "    \"velCharge\": charge\n",
    "})\n",
    "dps = data[\"dps\"]\n",
    "dps"
   ]
  },
  {
   "cell_type": "markdown",
   "metadata": {},
   "source": [
    "Shell data:\n",
    "\n",
    "DPS\n",
    ">{{dps}}\n",
    "\n",
    "Velocity = {{data}}"
   ]
  },
  {
   "cell_type": "code",
   "execution_count": 6,
   "metadata": {
    "scrolled": true
   },
   "outputs": [
    {
     "data": {
      "image/png": "[encoded data removed]",
      "text/latex": [
       "$\\displaystyle \\frac{1.43006557766075 \\cdot 0.9^{Nr} Q^{0.5} \\left(N - Np - Nr\\right)^{0.4}}{D^{1.3} N^{0.5}} - \\frac{1.7160786931929 Q^{0.5} \\left(N - Np - Nr\\right)^{0.4}}{D^{1.3} N^{0.5}} + \\frac{422.952601029242 Np \\left(N - Np - Nr\\right)^{0.68}}{D^{0.46} N^{1.5}}$"
      ],
      "text/plain": [
       "                    Nr  -1.3  -0.5  0.5              0.4                    -1\n",
       "1.43006557766075⋅0.9  ⋅D    ⋅N    ⋅Q   ⋅(N - Np - Nr)    - 1.7160786931929⋅D  \n",
       "\n",
       ".3  -0.5  0.5              0.4                     -0.46  -1.5                \n",
       "  ⋅N    ⋅Q   ⋅(N - Np - Nr)    + 422.952601029242⋅D     ⋅N    ⋅Np⋅(N - Np - Nr\n",
       "\n",
       " 0.68\n",
       ")    "
      ]
     },
     "execution_count": 6,
     "metadata": {},
     "output_type": "execute_result"
    }
   ],
   "source": [
    "diff(expand(dps), diameter)"
   ]
  },
  {
   "cell_type": "markdown",
   "metadata": {},
   "source": [
    "According to results, there are some situations when we get negative DPS if we fiddle with railguns"
   ]
  },
  {
   "cell_type": "code",
   "execution_count": 7,
   "metadata": {
    "code_folding": [
     0,
     5
    ]
   },
   "outputs": [],
   "source": [
    "def checkResult(config):\n",
    "    if config.get(\"velocity\", 0)  < 50:\n",
    "        return -1.0\n",
    "    return config[\"dps\"]"
   ]
  },
  {
   "cell_type": "markdown",
   "metadata": {},
   "source": [
    "## Checking shell modifiers ##"
   ]
  },
  {
   "cell_type": "code",
   "execution_count": 8,
   "metadata": {},
   "outputs": [
    {
     "data": {
      "image/png": "[encoded data removed]",
      "text/latex": [
       "$\\displaystyle 1.2024335406700017$"
      ],
      "text/plain": [
       "1.2024335406700017"
      ]
     },
     "execution_count": 8,
     "metadata": {},
     "output_type": "execute_result"
    }
   ],
   "source": [
    "shell_bp = ['apcap', 'bleeder', 'bleeder', 'bleeder', 'bleeder', 'bleeder', 'bleeder', 'bleeder', 'bleeder', 'bleeder', 'bleeder', 'bleeder', 'bleeder', 'rail', 'rail', 'rail']\n",
    "FTD.calcSpeedMod(shell_bp)"
   ]
  },
  {
   "cell_type": "code",
   "execution_count": 9,
   "metadata": {},
   "outputs": [
    {
     "data": {
      "image/png": "[encoded data removed]",
      "text/latex": [
       "$\\displaystyle 1.6923076923076923$"
      ],
      "text/plain": [
       "1.6923076923076923"
      ]
     },
     "execution_count": 9,
     "metadata": {},
     "output_type": "execute_result"
    }
   ],
   "source": [
    "FTD.calcKineticMod(shell_bp)"
   ]
  },
  {
   "cell_type": "markdown",
   "metadata": {},
   "source": [
    "# Calculates the best shell for 1 and 2-loaders #\n",
    "Will output 4 groups of variants"
   ]
  },
  {
   "cell_type": "code",
   "execution_count": 10,
   "metadata": {
    "scrolled": true
   },
   "outputs": [],
   "source": [
    "loaderSize = 1\n",
    "batch = 4\n",
    "results = FTD.calcBestShells(1, 4, batch, dict(loaders=1, clipsPerLoader=1, velCharge=0), checkResult)\n",
    "results += FTD.calcBestShells(2, 4, batch, dict(loaders=1, clipsPerLoader=1, velCharge=0), checkResult)\n",
    "results += FTD.calcBestShells(1, 16, batch, dict(loaders=1, clipsPerLoader=1, velCharge=1000), checkResult)\n",
    "results += FTD.calcBestShells(2, 16, batch, dict(loaders=1, clipsPerLoader=1, velCharge=1000), checkResult)"
   ]
  },
  {
   "cell_type": "code",
   "execution_count": 11,
   "metadata": {
    "scrolled": true
   },
   "outputs": [
    {
     "data": {
      "text/html": [
       "<table><tr><td><b>DPS</b></td><td><b>DAMAGE</b></td><td><b>DIAMETER</b></td><td><b>VELOCITY</b></td><td><b>PERIOD</b></td><td><b>SHELL</b></td></tr><tr><td> 562.93</td><td>kinetic=8314:6.9</td><td>333</td><td> 303.01</td><td> 14.77</td><td>['apcap', 'solid', 'gunpowder']</td></tr><tr><td> 604.78</td><td>kinetic=13399:8.8</td><td>500</td><td> 489.69</td><td> 22.16</td><td>['apcap', 'gunpowder']</td></tr><tr><td> 605.86</td><td>kinetic=6711:14.1</td><td>250</td><td> 503.29</td><td> 11.08</td><td>['apcap', 'bsabot', 'gunpowder', 'gunpowder']</td></tr><tr><td> 626.06</td><td>kinetic=6935:10.1</td><td>250</td><td> 442.90</td><td> 11.08</td><td>['apcap', 'solid', 'gunpowder', 'gunpowder']</td></tr><tr><td> 789.32</td><td>kinetic=21746:9.1</br>HE=2985:9.1</td><td>500</td><td> 428.55</td><td> 31.33</td><td>['apcap', 'HE', 'gunpowder', 'gunpowder']</td></tr><tr><td> 838.23</td><td>kinetic=23491:10.3</td><td>500</td><td> 523.32</td><td> 28.02</td><td>['apcap', 'bleeder', 'gunpowder', 'gunpowder']</td></tr><tr><td> 880.90</td><td>kinetic=27601:15.0</td><td>500</td><td> 535.69</td><td> 31.33</td><td>['apcap', 'bsabot', 'gunpowder', 'gunpowder']</td></tr><tr><td> 910.27</td><td>kinetic=28521:10.8</td><td>500</td><td> 471.41</td><td> 31.33</td><td>['apcap', 'solid', 'gunpowder', 'gunpowder']</td></tr><tr><td> 835.47</td><td>kinetic=5288:15.9</td><td>142</td><td> 598.90</td><td> 6.33</td><td>['apcap', 'solid', 'solid', 'gunpowder', 'gunpowder', 'gunpowder', 'gunpowder']</td></tr><tr><td> 840.10</td><td>kinetic=6204:18.6</td><td>166</td><td> 587.77</td><td> 7.39</td><td>['apcap', 'bsabot', 'solid', 'gunpowder', 'gunpowder', 'gunpowder']</td></tr><tr><td> 842.77</td><td>kinetic=7468:11.6</td><td>200</td><td> 438.84</td><td> 8.86</td><td>['apcap', 'solid', 'solid', 'gunpowder', 'gunpowder']</td></tr><tr><td> 858.86</td><td>kinetic=6342:14.1</td><td>166</td><td> 531.79</td><td> 7.39</td><td>['apcap', 'solid', 'solid', 'gunpowder', 'gunpowder', 'gunpowder']</td></tr><tr><td> 1109.24</td><td>kinetic=27804:11.2</td><td>400</td><td> 422.83</td><td> 25.07</td><td>['apcap', 'solid', 'solid', 'gunpowder', 'gunpowder']</td></tr><tr><td> 1111.96</td><td>kinetic=23227:18.0</td><td>333</td><td> 569.51</td><td> 20.89</td><td>['apcap', 'bsabot', 'solid', 'gunpowder', 'gunpowder', 'gunpowder']</td></tr><tr><td> 1112.62</td><td>kinetic=21843:14.3</td><td>333</td><td> 592.48</td><td> 19.63</td><td>['apcap', 'solid', 'bleeder', 'gunpowder', 'gunpowder', 'gunpowder']</td></tr><tr><td> 1136.79</td><td>kinetic=23745:13.6</td><td>333</td><td> 515.27</td><td> 20.89</td><td>['apcap', 'solid', 'solid', 'gunpowder', 'gunpowder', 'gunpowder']</td></tr></table>"
      ],
      "text/plain": [
       "<IPython.core.display.HTML object>"
      ]
     },
     "metadata": {},
     "output_type": "display_data"
    }
   ],
   "source": [
    "displayTable(results, [\"dps\", \"damage\", \"diameter\", \"velocity\", \"period\", \"shell\"])"
   ]
  },
  {
   "cell_type": "markdown",
   "metadata": {},
   "source": [
    "What do we see here:\n",
    "\n",
    " - Velocity is broken again\n",
    " - Kinetic damage is mostly accurate when velocity is accurate\n",
    " - HE damage is accurate\n",
    " - Reloading period is accurate\n",
    " - AP seems to be accurate when velocity is accurate\n",
    "\n",
    "According to wiki:\n",
    ">$AP=0.01av$\n",
    "\n",
    "Some modules have maximum length, like bleeder.\n"
   ]
  },
  {
   "cell_type": "code",
   "execution_count": 12,
   "metadata": {},
   "outputs": [],
   "source": [
    "real_data = {\n",
    "    ('HE', 'gunpowder'): dict(D=0.5, T=22.16, velocity=326, ap=3.0, exp=2985, kin=2842),\n",
    "    ('HE', 'HE', 'HE', 'gunpowder'): dict(D=0.5, velocity=169, ap=2.5, exp=6096, kin=6428),\n",
    "    ('solid', 'solid', 'solid', 'gunpowder'): dict(D=0.5, velocity=219, ap=4.4, kin=16713),\n",
    "    ('solid', 'solid', 'gunpowder', 'gunpowder'): dict(D=0.5, velocity=219, ap=4.4, kin=17760),\n",
    "    ('HE', 'HE', 'gunpowder', 'gunpowder'): dict(D=0.5, T=31.33, velocity=333, ap=4.2, exp=4684, kin=7196),\n",
    "    ('HE', 'HE', 'bleeder', 'gunpowder'): dict(D=0.5, T=28.7, velocity=257, ap=3.5, exp=4684, kin=6399),\n",
    "    ('HE', 'gunpowder', 'gunpowder', 'gunpowder'): dict(D=0.5, velocity=490, ap=4.6, exp=2985, kin=4263)\n",
    "}"
   ]
  },
  {
   "cell_type": "markdown",
   "metadata": {},
   "source": [
    "We need to check whether value 0.01 is for AP is actual. Also we should calculate velocity error."
   ]
  },
  {
   "cell_type": "markdown",
   "metadata": {},
   "source": [
    "## Comparing with real results from FTD ##"
   ]
  },
  {
   "cell_type": "markdown",
   "metadata": {},
   "source": [
    "This block was producing wrong **shellLength** and **length** values"
   ]
  },
  {
   "cell_type": "code",
   "execution_count": 13,
   "metadata": {},
   "outputs": [
    {
     "data": {
      "text/plain": [
       "{'accuracy': 0.5954583420518296,\n",
       " 'armorC': 1.3783783783783783,\n",
       " 'barrel_p': 8.0,\n",
       " 'damage': {'HE': (4684.060743551104, 2.858241147914065),\n",
       "  'kinetic': (6320.948563096364, 2.858241147914065)},\n",
       " 'diameter': 0.5,\n",
       " 'dps': 351.2290806906344,\n",
       " 'expMod': 1.0,\n",
       " 'kineticC': 2.0,\n",
       " 'length': 2.0,\n",
       " 'modules': 4,\n",
       " 'numExplosive': 2,\n",
       " 'period': 31.332853432887504,\n",
       " 'propellant': 1,\n",
       " 'shell': ['HE', 'HE', 'bleeder', 'gunpowder'],\n",
       " 'shellLength': 1.5,\n",
       " 'speedC': 1.229189189189189,\n",
       " 'velCharge': 0,\n",
       " 'velocity': 207.3625930839616,\n",
       " 'vp': 207.3625930839616}"
      ]
     },
     "execution_count": 13,
     "metadata": {},
     "output_type": "execute_result"
    }
   ],
   "source": [
    "shell_bp = ['HE', 'HE', 'bleeder', 'gunpowder']\n",
    "shell = dict(diameter=0.5, velCharge=0, **FTD.calcBulletStats(shell_bp))\n",
    "FTD.calcCannonData(shell)"
   ]
  },
  {
   "cell_type": "markdown",
   "metadata": {},
   "source": [
    "And this one is OK"
   ]
  },
  {
   "cell_type": "code",
   "execution_count": 14,
   "metadata": {},
   "outputs": [
    {
     "data": {
      "text/plain": [
       "{'diameter': 0.5,\n",
       " 'length': 1.6,\n",
       " 'shell': ['HE', 'HE', 'bleeder', 'gunpowder'],\n",
       " 'shellLength': 1.1}"
      ]
     },
     "execution_count": 14,
     "metadata": {},
     "output_type": "execute_result"
    }
   ],
   "source": [
    "shell = dict(shell=['HE', 'HE', 'bleeder', 'gunpowder'])\n",
    "FTD.calcBulletLength(shell, diameter=0.5)\n",
    "shell"
   ]
  },
  {
   "cell_type": "code",
   "execution_count": 15,
   "metadata": {},
   "outputs": [
    {
     "data": {
      "text/plain": [
       "{'accuracy': 0.628539361054709,\n",
       " 'armorC': 2.2837837837837838,\n",
       " 'barrel_p': 16.0,\n",
       " 'coolers': 0.8167506081120626,\n",
       " 'damage': {'kinetic': (31758.282901629802, 11.987787266147057)},\n",
       " 'diameter': 0.5,\n",
       " 'dps': 1013.5777441928018,\n",
       " 'expMod': 1.0,\n",
       " 'kineticC': 5.166666666666667,\n",
       " 'length': 2.0,\n",
       " 'modules': 4,\n",
       " 'period': 31.332853432887504,\n",
       " 'propellant': 2,\n",
       " 'shell': ['apcap', 'solid', 'gunpowder', 'gunpowder'],\n",
       " 'shellLength': 1.0,\n",
       " 'speedC': 1.4142857142857144,\n",
       " 'velCharge': 1000,\n",
       " 'velocity': 524.9090282218239,\n",
       " 'vp': 471.4070743410727,\n",
       " 'vr': 53.50195388075111}"
      ]
     },
     "execution_count": 15,
     "metadata": {},
     "output_type": "execute_result"
    }
   ],
   "source": [
    "shell = FTD.calcBulletStats(['apcap', 'solid', 'gunpowder', 'gunpowder'], 0.5)\n",
    "FTD.calcCannonData(dict(velCharge=1000, **shell))"
   ]
  },
  {
   "cell_type": "markdown",
   "metadata": {},
   "source": [
    "Slightly overestimated velocity, 525 vs 535"
   ]
  },
  {
   "cell_type": "code",
   "execution_count": 16,
   "metadata": {},
   "outputs": [
    {
     "data": {
      "text/plain": [
       "{'accuracy': 0.4465937565388722,\n",
       " 'armorC': 1.635135135135135,\n",
       " 'barrel_p': 8.0,\n",
       " 'damage': {'kinetic': (11839.72474263173, 4.723508322476615)},\n",
       " 'diameter': 0.5,\n",
       " 'dps': 436.32593385922945,\n",
       " 'expMod': 1.0,\n",
       " 'kineticC': 3.5,\n",
       " 'length': 1.5,\n",
       " 'modules': 3,\n",
       " 'period': 27.135047045935035,\n",
       " 'propellant': 1,\n",
       " 'shell': ['solid', 'solid', 'gunpowder'],\n",
       " 'shellLength': 1.0,\n",
       " 'speedC': 1.3000000000000003,\n",
       " 'velocity': 288.87571558947894,\n",
       " 'vp': 288.87571558947894}"
      ]
     },
     "execution_count": 16,
     "metadata": {},
     "output_type": "execute_result"
    }
   ],
   "source": [
    "shell = FTD.calcBulletStats(['solid', 'solid', 'gunpowder'], 0.5)\n",
    "FTD.calcCannonData(shell)"
   ]
  },
  {
   "cell_type": "code",
   "execution_count": 17,
   "metadata": {},
   "outputs": [
    {
     "data": {
      "image/png": "[encoded data removed]",
      "text/latex": [
       "$\\displaystyle 1.4300000000000002$"
      ],
      "text/plain": [
       "1.4300000000000002"
      ]
     },
     "execution_count": 17,
     "metadata": {},
     "output_type": "execute_result"
    }
   ],
   "source": [
    "1.3*1.1"
   ]
  },
  {
   "cell_type": "code",
   "execution_count": 18,
   "metadata": {},
   "outputs": [
    {
     "data": {
      "text/plain": [
       "{'accuracy': 0.5954583420518296,\n",
       " 'armorC': 1.5,\n",
       " 'barrel_p': 8.0,\n",
       " 'damage': {'HE': (6096.517668967417, 2.5304801926472886),\n",
       "  'kinetic': (6427.965502269278, 2.5304801926472886)},\n",
       " 'diameter': 0.5,\n",
       " 'dps': 399.7236701746028,\n",
       " 'expMod': 1.0,\n",
       " 'kineticC': 2.5,\n",
       " 'length': 2.0,\n",
       " 'modules': 4,\n",
       " 'numExplosive': 3,\n",
       " 'period': 31.332853432887504,\n",
       " 'propellant': 1,\n",
       " 'shell': ['HE', 'HE', 'HE', 'gunpowder'],\n",
       " 'shellLength': 1.5,\n",
       " 'speedC': 1.0,\n",
       " 'velocity': 168.69867950981924,\n",
       " 'vp': 168.69867950981924}"
      ]
     },
     "execution_count": 18,
     "metadata": {},
     "output_type": "execute_result"
    }
   ],
   "source": [
    "shell = FTD.calcBulletStats(['HE', 'HE', 'HE', 'gunpowder'], 0.5)\n",
    "FTD.calcCannonData(shell)"
   ]
  },
  {
   "cell_type": "code",
   "execution_count": null,
   "metadata": {},
   "outputs": [],
   "source": []
  },
  {
   "cell_type": "code",
   "execution_count": 19,
   "metadata": {},
   "outputs": [
    {
     "data": {
      "text/plain": [
       "{'accuracy': 0.5954583420518296,\n",
       " 'armorC': 2.0,\n",
       " 'barrel_p': 8.0,\n",
       " 'damage': {'kinetic': (16712.710305900127, 4.386165667255302)},\n",
       " 'diameter': 0.5,\n",
       " 'dps': 533.3925408899458,\n",
       " 'expMod': 1.0,\n",
       " 'kineticC': 5.0,\n",
       " 'length': 2.0,\n",
       " 'modules': 4,\n",
       " 'period': 31.332853432887504,\n",
       " 'propellant': 1,\n",
       " 'shell': ['solid', 'solid', 'solid', 'gunpowder'],\n",
       " 'shellLength': 1.5,\n",
       " 'speedC': 1.3000000000000003,\n",
       " 'velocity': 219.30828336276508,\n",
       " 'vp': 219.30828336276508}"
      ]
     },
     "execution_count": 19,
     "metadata": {},
     "output_type": "execute_result"
    }
   ],
   "source": [
    "shell = FTD.calcBulletStats(['solid', 'solid', 'solid', 'gunpowder'], 0.5)\n",
    "FTD.calcCannonData(shell)"
   ]
  },
  {
   "cell_type": "code",
   "execution_count": null,
   "metadata": {},
   "outputs": [],
   "source": []
  },
  {
   "cell_type": "code",
   "execution_count": 20,
   "metadata": {},
   "outputs": [
    {
     "data": {
      "text/plain": [
       "{'accuracy': 0.628539361054709,\n",
       " 'armorC': 1.2567567567567568,\n",
       " 'barrel_p': 16.0,\n",
       " 'coolers': 0.8167506081120626,\n",
       " 'damage': {'HE': (4684.060743551104, 4.188998162654085),\n",
       "  'kinetic': (7155.877591700494, 4.188998162654085)},\n",
       " 'diameter': 0.5,\n",
       " 'dps': 377.87615994220926,\n",
       " 'expMod': 1.0,\n",
       " 'kineticC': 1.8333333333333333,\n",
       " 'length': 2.0,\n",
       " 'modules': 4,\n",
       " 'numExplosive': 2,\n",
       " 'period': 31.332853432887504,\n",
       " 'propellant': 2,\n",
       " 'shell': ['HE', 'HE', 'gunpowder', 'gunpowder'],\n",
       " 'shellLength': 1.0,\n",
       " 'speedC': 1.0,\n",
       " 'velocity': 333.3181333724756,\n",
       " 'vp': 333.3181333724756}"
      ]
     },
     "execution_count": 20,
     "metadata": {},
     "output_type": "execute_result"
    }
   ],
   "source": [
    "shell = FTD.calcBulletStats(['HE', 'HE', 'gunpowder', 'gunpowder'], 0.5)\n",
    "FTD.calcCannonData(shell)"
   ]
  },
  {
   "cell_type": "markdown",
   "metadata": {},
   "source": [
    "## This is the test for the shell generator ##\n",
    "\n",
    "Should iterate every possible shell variant "
   ]
  },
  {
   "cell_type": "code",
   "execution_count": 21,
   "metadata": {},
   "outputs": [
    {
     "data": {
      "text/plain": [
       "[['HE', 'rail'],\n",
       " ['HE', 'bleeder', 'rail'],\n",
       " ['HE', 'rail', 'rail'],\n",
       " ['HE', 'gunpowder'],\n",
       " ['HE', 'bleeder', 'gunpowder'],\n",
       " ['HE', 'gunpowder', 'rail'],\n",
       " ['HE', 'gunpowder', 'gunpowder'],\n",
       " ['HE', 'HE', 'rail'],\n",
       " ['HE', 'HE', 'gunpowder'],\n",
       " ['solid', 'rail'],\n",
       " ['solid', 'bleeder', 'rail'],\n",
       " ['solid', 'rail', 'rail'],\n",
       " ['solid', 'gunpowder'],\n",
       " ['solid', 'bleeder', 'gunpowder'],\n",
       " ['solid', 'gunpowder', 'rail'],\n",
       " ['solid', 'gunpowder', 'gunpowder'],\n",
       " ['solid', 'HE', 'rail'],\n",
       " ['solid', 'HE', 'gunpowder'],\n",
       " ['solid', 'solid', 'rail'],\n",
       " ['solid', 'solid', 'gunpowder'],\n",
       " ['bsabot', 'rail'],\n",
       " ['bsabot', 'bleeder', 'rail'],\n",
       " ['bsabot', 'rail', 'rail'],\n",
       " ['bsabot', 'gunpowder'],\n",
       " ['bsabot', 'bleeder', 'gunpowder'],\n",
       " ['bsabot', 'gunpowder', 'rail'],\n",
       " ['bsabot', 'gunpowder', 'gunpowder'],\n",
       " ['bsabot', 'HE', 'rail'],\n",
       " ['bsabot', 'HE', 'gunpowder'],\n",
       " ['bsabot', 'solid', 'rail'],\n",
       " ['bsabot', 'solid', 'gunpowder'],\n",
       " ['bsabot', 'bsabot', 'rail'],\n",
       " ['bsabot', 'bsabot', 'gunpowder'],\n",
       " ['composite', 'rail'],\n",
       " ['composite', 'bleeder', 'rail'],\n",
       " ['composite', 'rail', 'rail'],\n",
       " ['composite', 'gunpowder'],\n",
       " ['composite', 'bleeder', 'gunpowder'],\n",
       " ['composite', 'gunpowder', 'rail'],\n",
       " ['composite', 'gunpowder', 'gunpowder'],\n",
       " ['composite', 'HE', 'rail'],\n",
       " ['composite', 'HE', 'gunpowder'],\n",
       " ['composite', 'solid', 'rail'],\n",
       " ['composite', 'solid', 'gunpowder'],\n",
       " ['composite', 'bsabot', 'rail'],\n",
       " ['composite', 'bsabot', 'gunpowder'],\n",
       " ['apcap', 'rail'],\n",
       " ['apcap', 'bleeder', 'rail'],\n",
       " ['apcap', 'rail', 'rail'],\n",
       " ['apcap', 'gunpowder'],\n",
       " ['apcap', 'bleeder', 'gunpowder'],\n",
       " ['apcap', 'gunpowder', 'rail'],\n",
       " ['apcap', 'gunpowder', 'gunpowder'],\n",
       " ['apcap', 'HE', 'rail'],\n",
       " ['apcap', 'HE', 'gunpowder'],\n",
       " ['apcap', 'solid', 'rail'],\n",
       " ['apcap', 'solid', 'gunpowder'],\n",
       " ['apcap', 'bsabot', 'rail'],\n",
       " ['apcap', 'bsabot', 'gunpowder'],\n",
       " ['hollow', 'rail'],\n",
       " ['hollow', 'bleeder', 'rail'],\n",
       " ['hollow', 'rail', 'rail'],\n",
       " ['hollow', 'gunpowder'],\n",
       " ['hollow', 'bleeder', 'gunpowder'],\n",
       " ['hollow', 'gunpowder', 'rail'],\n",
       " ['hollow', 'gunpowder', 'gunpowder'],\n",
       " ['hollow', 'HE', 'rail'],\n",
       " ['hollow', 'HE', 'gunpowder'],\n",
       " ['hollow', 'solid', 'rail'],\n",
       " ['hollow', 'solid', 'gunpowder'],\n",
       " ['hollow', 'bsabot', 'rail'],\n",
       " ['hollow', 'bsabot', 'gunpowder'],\n",
       " ['scharge', 'rail'],\n",
       " ['scharge', 'bleeder', 'rail'],\n",
       " ['scharge', 'rail', 'rail'],\n",
       " ['scharge', 'gunpowder'],\n",
       " ['scharge', 'bleeder', 'gunpowder'],\n",
       " ['scharge', 'gunpowder', 'rail'],\n",
       " ['scharge', 'gunpowder', 'gunpowder'],\n",
       " ['scharge', 'HE', 'rail'],\n",
       " ['scharge', 'HE', 'gunpowder'],\n",
       " ['scharge', 'solid', 'rail'],\n",
       " ['scharge', 'solid', 'gunpowder'],\n",
       " ['scharge', 'bsabot', 'rail'],\n",
       " ['scharge', 'bsabot', 'gunpowder'],\n",
       " ['sabot', 'rail'],\n",
       " ['sabot', 'bleeder', 'rail'],\n",
       " ['sabot', 'rail', 'rail'],\n",
       " ['sabot', 'gunpowder'],\n",
       " ['sabot', 'bleeder', 'gunpowder'],\n",
       " ['sabot', 'gunpowder', 'rail'],\n",
       " ['sabot', 'gunpowder', 'gunpowder'],\n",
       " ['sabot', 'HE', 'rail'],\n",
       " ['sabot', 'HE', 'gunpowder'],\n",
       " ['sabot', 'solid', 'rail'],\n",
       " ['sabot', 'solid', 'gunpowder'],\n",
       " ['sabot', 'bsabot', 'rail'],\n",
       " ['sabot', 'bsabot', 'gunpowder'],\n",
       " ['squash', 'rail'],\n",
       " ['squash', 'bleeder', 'rail'],\n",
       " ['squash', 'rail', 'rail'],\n",
       " ['squash', 'gunpowder'],\n",
       " ['squash', 'bleeder', 'gunpowder'],\n",
       " ['squash', 'gunpowder', 'rail'],\n",
       " ['squash', 'gunpowder', 'gunpowder'],\n",
       " ['squash', 'HE', 'rail'],\n",
       " ['squash', 'HE', 'gunpowder'],\n",
       " ['squash', 'solid', 'rail'],\n",
       " ['squash', 'solid', 'gunpowder'],\n",
       " ['squash', 'bsabot', 'rail'],\n",
       " ['squash', 'bsabot', 'gunpowder']]"
      ]
     },
     "execution_count": 21,
     "metadata": {},
     "output_type": "execute_result"
    }
   ],
   "source": [
    "[a for a in FTD.allBodyGen(3)]"
   ]
  }
 ],
 "metadata": {
  "kernelspec": {
   "display_name": "Python 3",
   "language": "python",
   "name": "python3"
  },
  "language_info": {
   "codemirror_mode": {
    "name": "ipython",
    "version": 3
   },
   "file_extension": ".py",
   "mimetype": "text/x-python",
   "name": "python",
   "nbconvert_exporter": "python",
   "pygments_lexer": "ipython3",
   "version": "3.5.2"
  }
 },
 "nbformat": 4,
 "nbformat_minor": 1
}
