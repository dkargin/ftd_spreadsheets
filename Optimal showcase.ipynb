{
 "cells": [
  {
   "cell_type": "markdown",
   "metadata": {},
   "source": [
    "# Optimization showcase #\n",
    "\n",
    "We will try to use our system to generate some good shell designs\n",
    "\n",
    "Design considerations:\n",
    "\n",
    "1. Optimizer picks the shell with the largest diameter available for chosen loader. It provides us maximum DPS for given autoloader size. Though railgun shells are more complicated.\n",
    "2. We use 1 autoloader with all 4 clips attached. Attaching more loaders will increase DPS, but this value should be balanced with coolder modules.\n",
    "3. Damage and reload time for bleeder shells are inaccurate. Velocity calculation for bleeder shells is OP.\n",
    "4. Sometimes optimizer picks a bit smaller diameter than it actually could. It is related to modules with limited length, like fuses or bleeder module. But this error is quite low.\n"
   ]
  },
  {
   "cell_type": "code",
   "execution_count": 1,
   "metadata": {},
   "outputs": [],
   "source": [
    "import ftd_calc as FTD\n",
    "from report import displayTable"
   ]
  },
  {
   "cell_type": "markdown",
   "metadata": {},
   "source": [
    "This function is used to filter out some results"
   ]
  },
  {
   "cell_type": "code",
   "execution_count": 2,
   "metadata": {},
   "outputs": [],
   "source": [
    "def filterResult(config):\n",
    "    if config.get(\"velocity\", 0)  < 50:\n",
    "        return -1.0\n",
    "    return config[\"dps\"]"
   ]
  },
  {
   "cell_type": "code",
   "execution_count": 3,
   "metadata": {},
   "outputs": [],
   "source": [
    "# Number of top variants to be generated\n",
    "optimizer = FTD.ShellOptimizer(max_modules=8, max_results=4, score_fn=filterResult)\n",
    "# A list to store results\n",
    "results = []\n",
    "\n",
    "batch = 4"
   ]
  },
  {
   "cell_type": "markdown",
   "metadata": {},
   "source": [
    "Generating shell variants for autoloaders with size 1 and 2. We limit number of shell modules to 8"
   ]
  },
  {
   "cell_type": "code",
   "execution_count": 4,
   "metadata": {},
   "outputs": [],
   "source": [
    "results += optimizer.calcBestShells(loader_length=1, loaders=2, clipsPerLoader=4, velCharge=0)\n",
    "results += optimizer.calcBestShells(loader_length=2, loaders=2, clipsPerLoader=4, velCharge=0)"
   ]
  },
  {
   "cell_type": "markdown",
   "metadata": {},
   "source": [
    "Generating shell variants for the same autoloader size, but adding some rail charge"
   ]
  },
  {
   "cell_type": "code",
   "execution_count": 5,
   "metadata": {},
   "outputs": [],
   "source": [
    "results += FTD.calcBestShells(1, 20, batch, dict(loaders=2, clipsPerLoader=4, velCharge=1000), filterResult)\n",
    "results += FTD.calcBestShells(2, 20, batch, dict(loaders=2, clipsPerLoader=4, velCharge=1000), filterResult)"
   ]
  },
  {
   "cell_type": "markdown",
   "metadata": {},
   "source": [
    "Let's see our results:"
   ]
  },
  {
   "cell_type": "code",
   "execution_count": 6,
   "metadata": {
    "scrolled": false
   },
   "outputs": [
    {
     "data": {
      "text/html": [
       "<table><tr><td><b>DPS</b></td><td><b>DAMAGE</b></td><td><b>DIAMETER</b></td><td><b>VELOCITY</b></td><td><b>PERIOD</b></td><td><b>BLOCKS</b></td><td><b>SHELL</b></td></tr><tr><td> 1113.03</td><td>kinetic=5865:9.1</td><td>200</td><td> 344.61</td><td> 5.27</td><td>36</td><td>['apcap', 'solid', 'solid', 'gunpowder', 'gunpowder']</td></tr><tr><td> 1120.56</td><td>kinetic=4217:12.7</td><td>142</td><td> 477.62</td><td> 3.76</td><td>41</td><td>['apcap', 'solid', 'solid', 'gunpowder', 'gunpowder', 'gunpowder', 'gunpowder']</td></tr><tr><td> 1125.84</td><td>kinetic=4943:14.8</td><td>166</td><td> 468.36</td><td> 4.39</td><td>39</td><td>['apcap', 'bsabot', 'solid', 'gunpowder', 'gunpowder', 'gunpowder']</td></tr><tr><td> 1150.98</td><td>kinetic=5054:11.2</td><td>166</td><td> 423.76</td><td> 4.39</td><td>39</td><td>['apcap', 'solid', 'solid', 'gunpowder', 'gunpowder', 'gunpowder']</td></tr><tr><td> 1618.32</td><td>kinetic=24120:9.7</td><td>400</td><td> 366.80</td><td> 14.90</td><td>48</td><td>['apcap', 'solid', 'solid', 'gunpowder', 'gunpowder']</td></tr><tr><td> 1629.27</td><td>kinetic=17345:13.5</td><td>285</td><td> 508.37</td><td> 10.65</td><td>56</td><td>['apcap', 'solid', 'solid', 'gunpowder', 'gunpowder', 'gunpowder', 'gunpowder']</td></tr><tr><td> 1636.95</td><td>kinetic=20331:15.8</td><td>333</td><td> 498.51</td><td> 12.42</td><td>53</td><td>['apcap', 'bsabot', 'solid', 'gunpowder', 'gunpowder', 'gunpowder']</td></tr><tr><td> 1673.50</td><td>kinetic=20785:11.9</td><td>333</td><td> 451.03</td><td> 12.42</td><td>53</td><td>['apcap', 'solid', 'solid', 'gunpowder', 'gunpowder', 'gunpowder']</td></tr><tr><td> 2467.00</td><td>kinetic=3249:56.0</td><td> 50</td><td> 1811.62</td><td> 1.32</td><td>23</td><td>['apcap', 'bsabot', 'bsabot', 'bsabot', 'solid', 'solid', 'solid', 'solid', 'solid', 'solid', 'solid', 'bleeder', 'rail', 'rail', 'rail', 'rail', 'rail', 'rail', 'rail', 'rail']</td></tr><tr><td> 2479.38</td><td>kinetic=3266:45.1</td><td> 50</td><td> 1678.04</td><td> 1.32</td><td>23</td><td>['apcap', 'bsabot', 'solid', 'solid', 'solid', 'solid', 'solid', 'solid', 'solid', 'solid', 'solid', 'bleeder', 'rail', 'rail', 'rail', 'rail', 'rail', 'rail', 'rail', 'rail']</td></tr><tr><td> 2482.04</td><td>kinetic=3269:47.9</td><td> 50</td><td> 1644.13</td><td> 1.32</td><td>23</td><td>['apcap', 'bsabot', 'bsabot', 'solid', 'solid', 'solid', 'solid', 'solid', 'solid', 'solid', 'solid', 'solid', 'bleeder', 'rail', 'rail', 'rail', 'rail', 'rail', 'rail', 'rail']</td></tr><tr><td> 2490.61</td><td>kinetic=3281:51.2</td><td> 50</td><td> 1754.37</td><td> 1.32</td><td>23</td><td>['apcap', 'bsabot', 'bsabot', 'solid', 'solid', 'solid', 'solid', 'solid', 'solid', 'solid', 'solid', 'bleeder', 'rail', 'rail', 'rail', 'rail', 'rail', 'rail', 'rail', 'rail']</td></tr><tr><td> 1885.04</td><td>kinetic=20068:15.6</td><td>285</td><td> 588.17</td><td> 10.65</td><td>50</td><td>['apcap', 'solid', 'solid', 'gunpowder', 'gunpowder', 'gunpowder', 'gunpowder']</td></tr><tr><td> 1891.89</td><td>kinetic=28197:11.4</td><td>400</td><td> 428.80</td><td> 14.90</td><td>42</td><td>['apcap', 'solid', 'solid', 'gunpowder', 'gunpowder']</td></tr><tr><td> 1894.96</td><td>kinetic=23536:18.3</td><td>333</td><td> 577.09</td><td> 12.42</td><td>47</td><td>['apcap', 'bsabot', 'solid', 'gunpowder', 'gunpowder', 'gunpowder']</td></tr><tr><td> 1937.27</td><td>kinetic=24061:13.8</td><td>333</td><td> 522.13</td><td> 12.42</td><td>47</td><td>['apcap', 'solid', 'solid', 'gunpowder', 'gunpowder', 'gunpowder']</td></tr></table>"
      ],
      "text/plain": [
       "<IPython.core.display.HTML object>"
      ]
     },
     "metadata": {},
     "output_type": "display_data"
    }
   ],
   "source": [
    "displayTable(results)"
   ]
  },
  {
   "cell_type": "markdown",
   "metadata": {},
   "source": [
    "You can check specific shell designs by:"
   ]
  },
  {
   "cell_type": "code",
   "execution_count": 14,
   "metadata": {},
   "outputs": [
    {
     "data": {
      "text/plain": [
       "{'accuracy': 0.019319627325598183,\n",
       " 'armorC': 2.9185371211899707,\n",
       " 'blocks': 23,\n",
       " 'clipsPerLoader': 4,\n",
       " 'damage': {'kinetic': (1315.428925676838, 142.2276501534383)},\n",
       " 'diameter': 0.018,\n",
       " 'dps': 4622.7582656731975,\n",
       " 'expMod': 0.25,\n",
       " 'kineticC': 4.7,\n",
       " 'length': 0.36,\n",
       " 'loaders': 2,\n",
       " 'modules': 20,\n",
       " 'period': 0.28455498861895956,\n",
       " 'rails': 8,\n",
       " 'shell': ['apcap',\n",
       "  'bsabot',\n",
       "  'bsabot',\n",
       "  'solid',\n",
       "  'solid',\n",
       "  'solid',\n",
       "  'solid',\n",
       "  'solid',\n",
       "  'solid',\n",
       "  'solid',\n",
       "  'solid',\n",
       "  'bleeder',\n",
       "  'rail',\n",
       "  'rail',\n",
       "  'rail',\n",
       "  'rail',\n",
       "  'rail',\n",
       "  'rail',\n",
       "  'rail',\n",
       "  'rail'],\n",
       " 'shellLength': 0.21599999999999997,\n",
       " 'speedC': 1.8023295065947913,\n",
       " 'velCharge': 1000,\n",
       " 'velocity': 4873.251366953594,\n",
       " 'vr': 4873.251366953594}"
      ]
     },
     "execution_count": 14,
     "metadata": {},
     "output_type": "execute_result"
    }
   ],
   "source": [
    "shell_bp = ['apcap', 'bsabot', 'bsabot', 'solid', 'solid', 'solid', 'solid', 'solid', 'solid', 'solid', 'solid', 'bleeder', 'rail', 'rail', 'rail', 'rail', 'rail', 'rail', 'rail', 'rail']\n",
    "FTD.calcCannonData(dict(diameter=0.018, loaders=2, clipsPerLoader=4,velCharge=1000, **FTD.calcBulletStats(shell_bp)))"
   ]
  },
  {
   "cell_type": "code",
   "execution_count": 13,
   "metadata": {},
   "outputs": [
    {
     "data": {
      "text/plain": [
       "{'accuracy': 0.9982683969692436,\n",
       " 'armorC': 2.6486486486486487,\n",
       " 'barrel_p': 24.0,\n",
       " 'blocks': 55,\n",
       " 'clipsPerLoader': 4,\n",
       " 'coolers': 8,\n",
       " 'damage': {'kinetic': (47532.19895732094, 12.39029571026538)},\n",
       " 'diameter': 0.5,\n",
       " 'dps': 2083.1225793005874,\n",
       " 'expMod': 1.0,\n",
       " 'kineticC': 6.666666666666667,\n",
       " 'length': 3.0,\n",
       " 'loaders': 2,\n",
       " 'modules': 6,\n",
       " 'period': 22.81776378866767,\n",
       " 'propellant': 3,\n",
       " 'shell': ['apcap', 'solid', 'solid', 'gunpowder', 'gunpowder', 'gunpowder'],\n",
       " 'shellLength': 1.5,\n",
       " 'speedC': 1.3864864864864865,\n",
       " 'velocity': 467.79687885695824,\n",
       " 'vp': 467.79687885695824}"
      ]
     },
     "execution_count": 13,
     "metadata": {},
     "output_type": "execute_result"
    }
   ],
   "source": [
    "shell_bp = ['apcap', 'solid', 'solid', 'gunpowder', 'gunpowder', 'gunpowder']\n",
    "FTD.calcCannonData(dict(diameter=0.5, loaders=2, clipsPerLoader=4, **FTD.calcBulletStats(shell_bp)))"
   ]
  }
 ],
 "metadata": {
  "kernelspec": {
   "display_name": "Python 3",
   "language": "python",
   "name": "python3"
  },
  "language_info": {
   "codemirror_mode": {
    "name": "ipython",
    "version": 3
   },
   "file_extension": ".py",
   "mimetype": "text/x-python",
   "name": "python",
   "nbconvert_exporter": "python",
   "pygments_lexer": "ipython3",
   "version": "3.5.2"
  }
 },
 "nbformat": 4,
 "nbformat_minor": 1
}
