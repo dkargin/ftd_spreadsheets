{
 "cells": [
  {
   "cell_type": "markdown",
   "metadata": {},
   "source": [
    "# Optimization showcase #\n",
    "\n",
    "We will try to use our system to generate some good shell designs\n",
    "\n",
    "Design considerations:\n",
    "\n",
    "1. Optimizer picks the shell with the largest diameter available for chosen loader. It provides us maximum DPS for given autoloader size. Though railgun shells are more complicated.\n",
    "2. We use 1 autoloader with all 4 clips attached. Attaching more loaders will increase DPS, but this value should be balanced with coolder modules.\n",
    "3. Calculations for a bleeder module are not accurate.\n",
    "4. Sometimes optimizer picks a bit smaller diameter than it actually could. It is related to modules with limited length, like fuses or bleeder module. But this error is quite low.\n"
   ]
  },
  {
   "cell_type": "code",
   "execution_count": 1,
   "metadata": {},
   "outputs": [],
   "source": [
    "import ftd_calc as FTD"
   ]
  },
  {
   "cell_type": "markdown",
   "metadata": {},
   "source": [
    "This function is used to filter out some results"
   ]
  },
  {
   "cell_type": "code",
   "execution_count": 2,
   "metadata": {},
   "outputs": [],
   "source": [
    "def filterResult(config):\n",
    "    if config.get(\"velocity\", 0)  < 50:\n",
    "        return -1.0\n",
    "    return config[\"dps\"]"
   ]
  },
  {
   "cell_type": "code",
   "execution_count": 3,
   "metadata": {},
   "outputs": [],
   "source": [
    "# Number of top variants to be generated\n",
    "batch = 4\n",
    "# A list to store results\n",
    "results = []"
   ]
  },
  {
   "cell_type": "markdown",
   "metadata": {},
   "source": [
    "Generating shell variants for autoloaders with size 1 and 2. We limit number of shell modules to 8"
   ]
  },
  {
   "cell_type": "code",
   "execution_count": 4,
   "metadata": {},
   "outputs": [],
   "source": [
    "maxShellModules = 8\n",
    "results += FTD.calcBestShells(1, maxShellModules, batch, dict(loaders=1, clipsPerLoader=1, velCharge=0), filterResult)\n",
    "results += FTD.calcBestShells(2, maxShellModules, batch, dict(loaders=1, clipsPerLoader=1, velCharge=0), filterResult)"
   ]
  },
  {
   "cell_type": "markdown",
   "metadata": {},
   "source": [
    "Generating shell variants for the same autoloader size, but adding some rail charge"
   ]
  },
  {
   "cell_type": "code",
   "execution_count": 7,
   "metadata": {},
   "outputs": [],
   "source": [
    "results += FTD.calcBestShells(1, 20, batch, dict(loaders=1, clipsPerLoader=1, velCharge=10000), filterResult)\n",
    "results += FTD.calcBestShells(2, 20, batch, dict(loaders=1, clipsPerLoader=1, velCharge=10000), filterResult)"
   ]
  },
  {
   "cell_type": "markdown",
   "metadata": {},
   "source": [
    "Let's see our results:"
   ]
  },
  {
   "cell_type": "code",
   "execution_count": 8,
   "metadata": {},
   "outputs": [
    {
     "data": {
      "text/html": [
       "<table><tr><td><b>DPS</b></td><td><b>DAMAGE</b></td><td><b>DIAMETER</b></td><td><b>VELOCITY</b></td><td><b>PERIOD</b></td><td><b>SHELL</b></td></tr><tr><td> 661.81</td><td>kinetic=5865:9.1</td><td>200</td><td> 344.61</td><td> 8.86</td><td>['apcap', 'solid', 'solid', 'gunpowder', 'gunpowder']</td></tr><tr><td> 666.29</td><td>kinetic=4217:12.7</td><td>142</td><td> 477.62</td><td> 6.33</td><td>['apcap', 'solid', 'solid', 'gunpowder', 'gunpowder', 'gunpowder', 'gunpowder']</td></tr><tr><td> 669.43</td><td>kinetic=4943:14.8</td><td>166</td><td> 468.36</td><td> 7.39</td><td>['apcap', 'bsabot', 'solid', 'gunpowder', 'gunpowder', 'gunpowder']</td></tr><tr><td> 684.38</td><td>kinetic=5054:11.2</td><td>166</td><td> 423.76</td><td> 7.39</td><td>['apcap', 'solid', 'solid', 'gunpowder', 'gunpowder', 'gunpowder']</td></tr><tr><td> 968.77</td><td>kinetic=17345:13.5</td><td>285</td><td> 508.37</td><td> 17.90</td><td>['apcap', 'solid', 'solid', 'gunpowder', 'gunpowder', 'gunpowder', 'gunpowder']</td></tr><tr><td> 972.94</td><td>kinetic=19101:12.5</td><td>333</td><td> 518.10</td><td> 19.63</td><td>['apcap', 'solid', 'bleeder', 'gunpowder', 'gunpowder', 'gunpowder']</td></tr><tr><td> 973.33</td><td>kinetic=20331:15.8</td><td>333</td><td> 498.51</td><td> 20.89</td><td>['apcap', 'bsabot', 'solid', 'gunpowder', 'gunpowder', 'gunpowder']</td></tr><tr><td> 995.07</td><td>kinetic=20785:11.9</td><td>333</td><td> 451.03</td><td> 20.89</td><td>['apcap', 'solid', 'solid', 'gunpowder', 'gunpowder', 'gunpowder']</td></tr><tr><td> 2317.00</td><td>kinetic=6416:59.6</td><td> 62</td><td> 2504.67</td><td> 2.77</td><td>['apcap', 'solid', 'solid', 'solid', 'solid', 'solid', 'solid', 'bleeder', 'rail', 'rail', 'rail', 'rail', 'rail', 'rail', 'rail', 'rail']</td></tr><tr><td> 2326.20</td><td>kinetic=6442:65.1</td><td> 62</td><td> 2733.11</td><td> 2.77</td><td>['apcap', 'solid', 'solid', 'solid', 'solid', 'solid', 'bleeder', 'rail', 'rail', 'rail', 'rail', 'rail', 'rail', 'rail', 'rail', 'rail']</td></tr><tr><td> 2334.95</td><td>kinetic=6466:79.9</td><td> 62</td><td> 2930.62</td><td> 2.77</td><td>['apcap', 'bsabot', 'solid', 'solid', 'solid', 'solid', 'bleeder', 'rail', 'rail', 'rail', 'rail', 'rail', 'rail', 'rail', 'rail', 'rail']</td></tr><tr><td> 2339.12</td><td>kinetic=6478:72.7</td><td> 62</td><td> 2678.86</td><td> 2.77</td><td>['apcap', 'bsabot', 'solid', 'solid', 'solid', 'solid', 'solid', 'bleeder', 'rail', 'rail', 'rail', 'rail', 'rail', 'rail', 'rail', 'rail']</td></tr><tr><td> 1893.86</td><td>kinetic=14741:35.4</td><td>125</td><td> 1489.28</td><td> 7.78</td><td>['apcap', 'solid', 'solid', 'solid', 'solid', 'solid', 'solid', 'bleeder', 'rail', 'rail', 'rail', 'rail', 'rail', 'rail', 'rail', 'rail']</td></tr><tr><td> 1901.39</td><td>kinetic=14800:38.7</td><td>125</td><td> 1625.12</td><td> 7.78</td><td>['apcap', 'solid', 'solid', 'solid', 'solid', 'solid', 'bleeder', 'rail', 'rail', 'rail', 'rail', 'rail', 'rail', 'rail', 'rail', 'rail']</td></tr><tr><td> 1908.53</td><td>kinetic=14856:47.5</td><td>125</td><td> 1742.56</td><td> 7.78</td><td>['apcap', 'bsabot', 'solid', 'solid', 'solid', 'solid', 'bleeder', 'rail', 'rail', 'rail', 'rail', 'rail', 'rail', 'rail', 'rail', 'rail']</td></tr><tr><td> 1911.94</td><td>kinetic=14882:43.2</td><td>125</td><td> 1592.86</td><td> 7.78</td><td>['apcap', 'bsabot', 'solid', 'solid', 'solid', 'solid', 'solid', 'bleeder', 'rail', 'rail', 'rail', 'rail', 'rail', 'rail', 'rail', 'rail']</td></tr><tr><td> 2702.26</td><td>kinetic=5987:94.2</td><td> 50</td><td> 3219.90</td><td> 2.22</td><td>['apcap', 'bsabot', 'bsabot', 'solid', 'solid', 'solid', 'solid', 'solid', 'solid', 'solid', 'bleeder', 'rail', 'rail', 'rail', 'rail', 'rail', 'rail', 'rail', 'rail', 'rail']</td></tr><tr><td> 2706.67</td><td>kinetic=5996:95.6</td><td> 50</td><td> 3536.15</td><td> 2.22</td><td>['apcap', 'bsabot', 'solid', 'solid', 'solid', 'solid', 'solid', 'solid', 'bleeder', 'rail', 'rail', 'rail', 'rail', 'rail', 'rail', 'rail', 'rail', 'rail', 'rail', 'rail']</td></tr><tr><td> 2709.78</td><td>kinetic=6003:101.5</td><td> 50</td><td> 3459.46</td><td> 2.22</td><td>['apcap', 'bsabot', 'bsabot', 'solid', 'solid', 'solid', 'solid', 'solid', 'solid', 'bleeder', 'rail', 'rail', 'rail', 'rail', 'rail', 'rail', 'rail', 'rail', 'rail', 'rail']</td></tr><tr><td> 2717.42</td><td>kinetic=6020:89.1</td><td> 50</td><td> 3305.36</td><td> 2.22</td><td>['apcap', 'bsabot', 'solid', 'solid', 'solid', 'solid', 'solid', 'solid', 'solid', 'bleeder', 'rail', 'rail', 'rail', 'rail', 'rail', 'rail', 'rail', 'rail', 'rail', 'rail']</td></tr><tr><td> 2194.91</td><td>kinetic=13754:56.0</td><td>100</td><td> 1914.57</td><td> 6.27</td><td>['apcap', 'bsabot', 'bsabot', 'solid', 'solid', 'solid', 'solid', 'solid', 'solid', 'solid', 'bleeder', 'rail', 'rail', 'rail', 'rail', 'rail', 'rail', 'rail', 'rail', 'rail']</td></tr><tr><td> 2198.50</td><td>kinetic=13777:56.8</td><td>100</td><td> 2102.61</td><td> 6.27</td><td>['apcap', 'bsabot', 'solid', 'solid', 'solid', 'solid', 'solid', 'solid', 'bleeder', 'rail', 'rail', 'rail', 'rail', 'rail', 'rail', 'rail', 'rail', 'rail', 'rail', 'rail']</td></tr><tr><td> 2201.02</td><td>kinetic=13792:60.3</td><td>100</td><td> 2057.00</td><td> 6.27</td><td>['apcap', 'bsabot', 'bsabot', 'solid', 'solid', 'solid', 'solid', 'solid', 'solid', 'bleeder', 'rail', 'rail', 'rail', 'rail', 'rail', 'rail', 'rail', 'rail', 'rail', 'rail']</td></tr><tr><td> 2207.23</td><td>kinetic=13831:53.0</td><td>100</td><td> 1965.38</td><td> 6.27</td><td>['apcap', 'bsabot', 'solid', 'solid', 'solid', 'solid', 'solid', 'solid', 'solid', 'bleeder', 'rail', 'rail', 'rail', 'rail', 'rail', 'rail', 'rail', 'rail', 'rail', 'rail']</td></tr></table>"
      ],
      "text/plain": [
       "<IPython.core.display.HTML object>"
      ]
     },
     "metadata": {},
     "output_type": "display_data"
    }
   ],
   "source": [
    "FTD.displayTable(results)"
   ]
  },
  {
   "cell_type": "markdown",
   "metadata": {},
   "source": [
    "You can check specific shell designs by:"
   ]
  },
  {
   "cell_type": "code",
   "execution_count": 10,
   "metadata": {},
   "outputs": [
    {
     "data": {
      "text/plain": [
       "{'accuracy': 0.5123737009917034,\n",
       " 'armorC': 2.6486486486486487,\n",
       " 'barrel_p': 15.984000000000002,\n",
       " 'coolers': 0.816750608112061,\n",
       " 'damage': {'kinetic': (20743.17989629674, 11.945225483930054)},\n",
       " 'diameter': 0.333,\n",
       " 'dps': 994.5312026653083,\n",
       " 'expMod': 1.0,\n",
       " 'kineticC': 6.666666666666667,\n",
       " 'length': 1.9980000000000002,\n",
       " 'modules': 6,\n",
       " 'period': 20.857243936344837,\n",
       " 'propellant': 3,\n",
       " 'shell': ['apcap', 'solid', 'solid', 'gunpowder', 'gunpowder', 'gunpowder'],\n",
       " 'shellLength': 0.9990000000000001,\n",
       " 'speedC': 1.3864864864864865,\n",
       " 'velocity': 450.99320704633874,\n",
       " 'vp': 450.99320704633874}"
      ]
     },
     "execution_count": 10,
     "metadata": {},
     "output_type": "execute_result"
    }
   ],
   "source": [
    "shell_bp = ['apcap', 'solid', 'solid', 'gunpowder', 'gunpowder', 'gunpowder']\n",
    "shell = dict(diameter=0.333, **FTD.calcBulletStats(shell_bp))\n",
    "FTD.calcCannonData(shell)"
   ]
  }
 ],
 "metadata": {
  "kernelspec": {
   "display_name": "Python 3",
   "language": "python",
   "name": "python3"
  },
  "language_info": {
   "codemirror_mode": {
    "name": "ipython",
    "version": 3
   },
   "file_extension": ".py",
   "mimetype": "text/x-python",
   "name": "python",
   "nbconvert_exporter": "python",
   "pygments_lexer": "ipython3",
   "version": "3.5.2"
  }
 },
 "nbformat": 4,
 "nbformat_minor": 2
}
