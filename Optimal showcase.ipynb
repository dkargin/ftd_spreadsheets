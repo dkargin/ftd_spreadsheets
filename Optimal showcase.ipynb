{
 "cells": [
  {
   "cell_type": "markdown",
   "metadata": {},
   "source": [
    "# Optimization showcase #\n",
    "\n",
    "We will try to use our system to generate some good shell designs\n",
    "\n",
    "Design considerations:\n",
    "\n",
    "1. Optimizer picks the shell with the largest diameter available for chosen loader. It provides us maximum DPS for given autoloader size. Though railgun shells are more complicated.\n",
    "2. We use 1 autoloader with all 4 clips attached. Attaching more loaders will increase DPS, but this value should be balanced with coolder modules.\n",
    "3. Calculations for a bleeder module are not accurate.\n",
    "4. Sometimes optimizer picks a bit smaller diameter than it actually could. It is related to modules with limited length, like fuses or bleeder module. But this error is quite low.\n"
   ]
  },
  {
   "cell_type": "code",
   "execution_count": 1,
   "metadata": {},
   "outputs": [],
   "source": [
    "import ftd_calc as FTD"
   ]
  },
  {
   "cell_type": "markdown",
   "metadata": {},
   "source": [
    "This function is used to filter out some results"
   ]
  },
  {
   "cell_type": "code",
   "execution_count": 2,
   "metadata": {},
   "outputs": [],
   "source": [
    "def filterResult(config):\n",
    "    if config.get(\"velocity\", 0)  < 50:\n",
    "        return -1.0\n",
    "    return config[\"dps\"]"
   ]
  },
  {
   "cell_type": "code",
   "execution_count": 3,
   "metadata": {},
   "outputs": [],
   "source": [
    "# Number of top variants to be generated\n",
    "optimizer = FTD.ShellOptimizer(max_modules=8, max_results=4, score_fn=filterResult)\n",
    "# A list to store results\n",
    "results = []\n",
    "\n",
    "batch = 4"
   ]
  },
  {
   "cell_type": "markdown",
   "metadata": {},
   "source": [
    "Generating shell variants for autoloaders with size 1 and 2. We limit number of shell modules to 8"
   ]
  },
  {
   "cell_type": "code",
   "execution_count": 4,
   "metadata": {},
   "outputs": [],
   "source": [
    "results += optimizer.calcBestShells(loader_length=1, loaders=2, clipsPerLoader=4, velCharge=0)\n",
    "results += optimizer.calcBestShells(loader_length=2, loaders=2, clipsPerLoader=4, velCharge=0)"
   ]
  },
  {
   "cell_type": "markdown",
   "metadata": {},
   "source": [
    "Generating shell variants for the same autoloader size, but adding some rail charge"
   ]
  },
  {
   "cell_type": "code",
   "execution_count": 5,
   "metadata": {},
   "outputs": [],
   "source": [
    "results += FTD.calcBestShells(1, 20, batch, dict(loaders=2, clipsPerLoader=4, velCharge=1000), filterResult)\n",
    "results += FTD.calcBestShells(2, 20, batch, dict(loaders=2, clipsPerLoader=4, velCharge=1000), filterResult)"
   ]
  },
  {
   "cell_type": "markdown",
   "metadata": {},
   "source": [
    "Let's see our results:"
   ]
  },
  {
   "cell_type": "code",
   "execution_count": 6,
   "metadata": {
    "scrolled": false
   },
   "outputs": [
    {
     "data": {
      "text/html": [
       "<table><tr><td><b>DPS</b></td><td><b>DAMAGE</b></td><td><b>DIAMETER</b></td><td><b>VELOCITY</b></td><td><b>PERIOD</b></td><td><b>BLOCKS</b></td><td><b>SHELL</b></td></tr><tr><td> 1113.03</td><td>kinetic=5865:9.1</td><td>200</td><td> 344.61</td><td> 5.27</td><td>36</td><td>['apcap', 'solid', 'solid', 'gunpowder', 'gunpowder']</td></tr><tr><td> 1120.56</td><td>kinetic=4217:12.7</td><td>142</td><td> 477.62</td><td> 3.76</td><td>41</td><td>['apcap', 'solid', 'solid', 'gunpowder', 'gunpowder', 'gunpowder', 'gunpowder']</td></tr><tr><td> 1125.84</td><td>kinetic=4943:14.8</td><td>166</td><td> 468.36</td><td> 4.39</td><td>39</td><td>['apcap', 'bsabot', 'solid', 'gunpowder', 'gunpowder', 'gunpowder']</td></tr><tr><td> 1150.98</td><td>kinetic=5054:11.2</td><td>166</td><td> 423.76</td><td> 4.39</td><td>39</td><td>['apcap', 'solid', 'solid', 'gunpowder', 'gunpowder', 'gunpowder']</td></tr><tr><td> 1629.27</td><td>kinetic=17345:13.5</td><td>285</td><td> 508.37</td><td> 10.65</td><td>56</td><td>['apcap', 'solid', 'solid', 'gunpowder', 'gunpowder', 'gunpowder', 'gunpowder']</td></tr><tr><td> 1636.29</td><td>kinetic=19101:12.5</td><td>333</td><td> 518.10</td><td> 11.67</td><td>53</td><td>['apcap', 'solid', 'bleeder', 'gunpowder', 'gunpowder', 'gunpowder']</td></tr><tr><td> 1636.95</td><td>kinetic=20331:15.8</td><td>333</td><td> 498.51</td><td> 12.42</td><td>53</td><td>['apcap', 'bsabot', 'solid', 'gunpowder', 'gunpowder', 'gunpowder']</td></tr><tr><td> 1673.50</td><td>kinetic=20785:11.9</td><td>333</td><td> 451.03</td><td> 12.42</td><td>53</td><td>['apcap', 'solid', 'solid', 'gunpowder', 'gunpowder', 'gunpowder']</td></tr><tr><td> 1445.20</td><td>kinetic=1903:28.2</td><td> 50</td><td> 1045.25</td><td> 1.32</td><td>23</td><td>['apcap', 'bsabot', 'solid', 'solid', 'solid', 'solid', 'solid', 'solid', 'solid', 'bleeder', 'rail', 'rail', 'rail', 'rail', 'rail', 'rail', 'rail', 'rail', 'rail', 'rail']</td></tr><tr><td> 1445.89</td><td>kinetic=1904:30.4</td><td> 50</td><td> 1123.21</td><td> 1.32</td><td>24</td><td>['apcap', 'bsabot', 'solid', 'solid', 'solid', 'solid', 'solid', 'solid', 'bleeder', 'gunpowder', 'rail', 'rail', 'rail', 'rail', 'rail', 'rail', 'rail', 'rail', 'rail', 'rail']</td></tr><tr><td> 1446.01</td><td>kinetic=1904:30.4</td><td> 50</td><td> 1123.29</td><td> 1.32</td><td>25</td><td>['apcap', 'bsabot', 'solid', 'solid', 'solid', 'solid', 'solid', 'solid', 'bleeder', 'gunpowder', 'gunpowder', 'rail', 'rail', 'rail', 'rail', 'rail', 'rail', 'rail', 'rail', 'rail']</td></tr><tr><td> 1447.29</td><td>kinetic=1906:28.2</td><td> 50</td><td> 1046.76</td><td> 1.32</td><td>24</td><td>['apcap', 'bsabot', 'solid', 'solid', 'solid', 'solid', 'solid', 'solid', 'solid', 'bleeder', 'gunpowder', 'rail', 'rail', 'rail', 'rail', 'rail', 'rail', 'rail', 'rail', 'rail']</td></tr><tr><td> 1865.52</td><td>kinetic=27804:11.2</td><td>400</td><td> 422.83</td><td> 14.90</td><td>42</td><td>['apcap', 'solid', 'solid', 'gunpowder', 'gunpowder']</td></tr><tr><td> 1870.09</td><td>kinetic=23227:18.0</td><td>333</td><td> 569.51</td><td> 12.42</td><td>47</td><td>['apcap', 'bsabot', 'solid', 'gunpowder', 'gunpowder', 'gunpowder']</td></tr><tr><td> 1871.20</td><td>kinetic=21843:14.3</td><td>333</td><td> 592.48</td><td> 11.67</td><td>47</td><td>['apcap', 'solid', 'bleeder', 'gunpowder', 'gunpowder', 'gunpowder']</td></tr><tr><td> 1911.85</td><td>kinetic=23745:13.6</td><td>333</td><td> 515.27</td><td> 12.42</td><td>47</td><td>['apcap', 'solid', 'solid', 'gunpowder', 'gunpowder', 'gunpowder']</td></tr></table>"
      ],
      "text/plain": [
       "<IPython.core.display.HTML object>"
      ]
     },
     "metadata": {},
     "output_type": "display_data"
    }
   ],
   "source": [
    "FTD.displayTable(results)"
   ]
  },
  {
   "cell_type": "markdown",
   "metadata": {},
   "source": [
    "You can check specific shell designs by:"
   ]
  },
  {
   "cell_type": "code",
   "execution_count": 7,
   "metadata": {},
   "outputs": [
    {
     "data": {
      "text/plain": [
       "{'accuracy': 0.5123737009917034,\n",
       " 'armorC': 2.6486486486486487,\n",
       " 'barrel_p': 15.984000000000002,\n",
       " 'blocks': 22,\n",
       " 'coolers': 1,\n",
       " 'damage': {'kinetic': (20743.17989629674, 11.945225483930054)},\n",
       " 'diameter': 0.333,\n",
       " 'dps': 994.5312026653083,\n",
       " 'expMod': 1.0,\n",
       " 'kineticC': 6.666666666666667,\n",
       " 'length': 1.9980000000000002,\n",
       " 'modules': 6,\n",
       " 'period': 20.857243936344837,\n",
       " 'propellant': 3,\n",
       " 'shell': ['apcap', 'solid', 'solid', 'gunpowder', 'gunpowder', 'gunpowder'],\n",
       " 'shellLength': 0.9990000000000001,\n",
       " 'speedC': 1.3864864864864865,\n",
       " 'velocity': 450.99320704633874,\n",
       " 'vp': 450.99320704633874}"
      ]
     },
     "execution_count": 7,
     "metadata": {},
     "output_type": "execute_result"
    }
   ],
   "source": [
    "shell_bp = ['apcap', 'solid', 'solid', 'gunpowder', 'gunpowder', 'gunpowder']\n",
    "shell = dict(diameter=0.333, **FTD.calcBulletStats(shell_bp))\n",
    "FTD.calcCannonData(shell)"
   ]
  },
  {
   "cell_type": "code",
   "execution_count": 13,
   "metadata": {},
   "outputs": [],
   "source": [
    "import math\n",
    "def BBcode_formatValue(key, value):\n",
    "    \"\"\"\n",
    "    Formating value to be displayed in results table\n",
    "    \"\"\"\n",
    "    if key == 'diameter':\n",
    "        return '{:3}'.format(math.floor(value*1000))\n",
    "    if key == 'damage':\n",
    "        damage_data = []\n",
    "        for dtype, damage in value.items():\n",
    "            if isinstance(damage, tuple) and len(damage) == 2:\n",
    "                damage_data.append('{0}={1:3d}:{2:3.1f}'.format(dtype, int(damage[0]), damage[1]))\n",
    "            else:\n",
    "                damage_data.append('{0}={1}'.format(dtype, str(damage)))\n",
    "        return ' '.join(damage_data)\n",
    "    if isinstance(value, float):\n",
    "        return '{: 3.2f}'.format(value)\n",
    "    \n",
    "    return str(value)\n",
    "\n",
    "from IPython.display import display\n",
    "\n",
    "def BBcode_displayTable(results, columns=None):\n",
    "    \"\"\"\n",
    "    Generates BBcode table for results obtained from calcBestShells\n",
    "    @param results - a list with results, obtained from calcBestShells\n",
    "    @param columns:list - a list of column names to be displayed\n",
    "    \"\"\"\n",
    "    if columns is None:\n",
    "        columns = [\"dps\", \"damage\", \"diameter\", \"velocity\", \"period\", \"shell\"]\n",
    "    # Row start - caption\n",
    "    # Column - output variant\n",
    "    # html = <table><tr><td>Name</td><td>Data1</td></tr></table>\n",
    "    caption = '[th]{}[/th]'.format('[/td][th]'.join('[b]{}[/b]'.format(str(key).upper()) for key in columns))\n",
    "    rows = []\n",
    "    for row in results:\n",
    "        line = '[/td][td]'.join(BBcode_formatValue(key, row[key]) for key in columns)\n",
    "        rows.append('[td]{}[/td]'.format(line))\n",
    "    \n",
    "    htmlData = '[/tr][tr]'.join(rows)\n",
    "    return '[table][tr]' + caption + '[/tr][tr]' + htmlData + '[/tr][/table]'"
   ]
  },
  {
   "cell_type": "code",
   "execution_count": 14,
   "metadata": {},
   "outputs": [
    {
     "data": {
      "text/plain": [
       "\"[table][tr][th][b]DPS[/b][/td][th][b]DAMAGE[/b][/td][th][b]DIAMETER[/b][/td][th][b]VELOCITY[/b][/td][th][b]PERIOD[/b][/td][th][b]SHELL[/b][/th][/tr][tr][td] 1113.03[/td][td]kinetic=5865:9.1[/td][td]200[/td][td] 344.61[/td][td] 5.27[/td][td]['apcap', 'solid', 'solid', 'gunpowder', 'gunpowder'][/td][/tr][tr][td] 1120.56[/td][td]kinetic=4217:12.7[/td][td]142[/td][td] 477.62[/td][td] 3.76[/td][td]['apcap', 'solid', 'solid', 'gunpowder', 'gunpowder', 'gunpowder', 'gunpowder'][/td][/tr][tr][td] 1125.84[/td][td]kinetic=4943:14.8[/td][td]166[/td][td] 468.36[/td][td] 4.39[/td][td]['apcap', 'bsabot', 'solid', 'gunpowder', 'gunpowder', 'gunpowder'][/td][/tr][tr][td] 1150.98[/td][td]kinetic=5054:11.2[/td][td]166[/td][td] 423.76[/td][td] 4.39[/td][td]['apcap', 'solid', 'solid', 'gunpowder', 'gunpowder', 'gunpowder'][/td][/tr][tr][td] 1629.27[/td][td]kinetic=17345:13.5[/td][td]285[/td][td] 508.37[/td][td] 10.65[/td][td]['apcap', 'solid', 'solid', 'gunpowder', 'gunpowder', 'gunpowder', 'gunpowder'][/td][/tr][tr][td] 1636.29[/td][td]kinetic=19101:12.5[/td][td]333[/td][td] 518.10[/td][td] 11.67[/td][td]['apcap', 'solid', 'bleeder', 'gunpowder', 'gunpowder', 'gunpowder'][/td][/tr][tr][td] 1636.95[/td][td]kinetic=20331:15.8[/td][td]333[/td][td] 498.51[/td][td] 12.42[/td][td]['apcap', 'bsabot', 'solid', 'gunpowder', 'gunpowder', 'gunpowder'][/td][/tr][tr][td] 1673.50[/td][td]kinetic=20785:11.9[/td][td]333[/td][td] 451.03[/td][td] 12.42[/td][td]['apcap', 'solid', 'solid', 'gunpowder', 'gunpowder', 'gunpowder'][/td][/tr][tr][td] 1445.20[/td][td]kinetic=1903:28.2[/td][td] 50[/td][td] 1045.25[/td][td] 1.32[/td][td]['apcap', 'bsabot', 'solid', 'solid', 'solid', 'solid', 'solid', 'solid', 'solid', 'bleeder', 'rail', 'rail', 'rail', 'rail', 'rail', 'rail', 'rail', 'rail', 'rail', 'rail'][/td][/tr][tr][td] 1445.89[/td][td]kinetic=1904:30.4[/td][td] 50[/td][td] 1123.21[/td][td] 1.32[/td][td]['apcap', 'bsabot', 'solid', 'solid', 'solid', 'solid', 'solid', 'solid', 'bleeder', 'gunpowder', 'rail', 'rail', 'rail', 'rail', 'rail', 'rail', 'rail', 'rail', 'rail', 'rail'][/td][/tr][tr][td] 1446.01[/td][td]kinetic=1904:30.4[/td][td] 50[/td][td] 1123.29[/td][td] 1.32[/td][td]['apcap', 'bsabot', 'solid', 'solid', 'solid', 'solid', 'solid', 'solid', 'bleeder', 'gunpowder', 'gunpowder', 'rail', 'rail', 'rail', 'rail', 'rail', 'rail', 'rail', 'rail', 'rail'][/td][/tr][tr][td] 1447.29[/td][td]kinetic=1906:28.2[/td][td] 50[/td][td] 1046.76[/td][td] 1.32[/td][td]['apcap', 'bsabot', 'solid', 'solid', 'solid', 'solid', 'solid', 'solid', 'solid', 'bleeder', 'gunpowder', 'rail', 'rail', 'rail', 'rail', 'rail', 'rail', 'rail', 'rail', 'rail'][/td][/tr][tr][td] 1865.52[/td][td]kinetic=27804:11.2[/td][td]400[/td][td] 422.83[/td][td] 14.90[/td][td]['apcap', 'solid', 'solid', 'gunpowder', 'gunpowder'][/td][/tr][tr][td] 1870.09[/td][td]kinetic=23227:18.0[/td][td]333[/td][td] 569.51[/td][td] 12.42[/td][td]['apcap', 'bsabot', 'solid', 'gunpowder', 'gunpowder', 'gunpowder'][/td][/tr][tr][td] 1871.20[/td][td]kinetic=21843:14.3[/td][td]333[/td][td] 592.48[/td][td] 11.67[/td][td]['apcap', 'solid', 'bleeder', 'gunpowder', 'gunpowder', 'gunpowder'][/td][/tr][tr][td] 1911.85[/td][td]kinetic=23745:13.6[/td][td]333[/td][td] 515.27[/td][td] 12.42[/td][td]['apcap', 'solid', 'solid', 'gunpowder', 'gunpowder', 'gunpowder'][/td][/tr][/table]\""
      ]
     },
     "execution_count": 14,
     "metadata": {},
     "output_type": "execute_result"
    }
   ],
   "source": [
    "BBcode_displayTable(results)"
   ]
  }
 ],
 "metadata": {
  "kernelspec": {
   "display_name": "Python 3",
   "language": "python",
   "name": "python3"
  },
  "language_info": {
   "codemirror_mode": {
    "name": "ipython",
    "version": 3
   },
   "file_extension": ".py",
   "mimetype": "text/x-python",
   "name": "python",
   "nbconvert_exporter": "python",
   "pygments_lexer": "ipython3",
   "version": "3.5.2"
  }
 },
 "nbformat": 4,
 "nbformat_minor": 2
}
